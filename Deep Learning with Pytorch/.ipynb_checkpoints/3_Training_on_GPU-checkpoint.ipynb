{
 "cells": [
  {
   "cell_type": "markdown",
   "id": "48abe031-2875-42c4-b1df-ef51245fdaf1",
   "metadata": {},
   "source": [
    "## Feed forward Neural networks & Training on GPU\n"
   ]
  },
  {
   "cell_type": "code",
   "execution_count": null,
   "id": "5c746799-7a4a-49c1-937c-a499a0e61211",
   "metadata": {},
   "outputs": [],
   "source": []
  }
 ],
 "metadata": {
  "kernelspec": {
   "display_name": "Python [conda env:pytorch]",
   "language": "python",
   "name": "conda-env-pytorch-py"
  },
  "language_info": {
   "codemirror_mode": {
    "name": "ipython",
    "version": 3
   },
   "file_extension": ".py",
   "mimetype": "text/x-python",
   "name": "python",
   "nbconvert_exporter": "python",
   "pygments_lexer": "ipython3",
   "version": "3.12.9"
  }
 },
 "nbformat": 4,
 "nbformat_minor": 5
}
