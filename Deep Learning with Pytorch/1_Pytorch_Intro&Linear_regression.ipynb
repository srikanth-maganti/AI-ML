{
 "cells": [
  {
   "cell_type": "markdown",
   "id": "a845099d-aba8-4a62-b46b-57d7bfccd8c3",
   "metadata": {},
   "source": [
    "## Introduction to tensors"
   ]
  },
  {
   "cell_type": "code",
   "execution_count": 5,
   "id": "b7f83673-68e6-4499-8551-b98f6ca484bb",
   "metadata": {},
   "outputs": [],
   "source": [
    "import torch\n",
    "import torch.nn as nn\n"
   ]
  },
  {
   "cell_type": "code",
   "execution_count": 17,
   "id": "0d65ffee-c364-4e7c-ad48-9f149963b3ee",
   "metadata": {},
   "outputs": [],
   "source": [
    "x=torch.tensor(4.)\n",
    "y=torch.tensor([1,2,3.])\n",
    "z=torch.tensor([[1,2,3],[4,5,6.0]])"
   ]
  },
  {
   "cell_type": "code",
   "execution_count": 19,
   "id": "23507047-c063-4c00-a7c5-b729ca87181b",
   "metadata": {},
   "outputs": [
    {
     "name": "stdout",
     "output_type": "stream",
     "text": [
      "torch.Size([])\n",
      "torch.Size([3])\n",
      "torch.Size([2, 3])\n"
     ]
    }
   ],
   "source": [
    "print(x.shape)\n",
    "print(y.shape)\n",
    "print(z.shape)\n"
   ]
  },
  {
   "cell_type": "markdown",
   "id": "88563ccb-d47e-40e1-b1d5-e3115bef45b9",
   "metadata": {},
   "source": [
    "## Tensor Operations and Gradient"
   ]
  },
  {
   "cell_type": "code",
   "execution_count": 59,
   "id": "fba49852-3c79-4707-a97e-61fcc097eeb8",
   "metadata": {},
   "outputs": [
    {
     "name": "stdout",
     "output_type": "stream",
     "text": [
      "tensor(10., grad_fn=<AddBackward0>)\n"
     ]
    }
   ],
   "source": [
    "x=torch.tensor(2.)\n",
    "w=torch.tensor(3.,requires_grad=True)\n",
    "b=torch.tensor(4.,requires_grad=True)# requires_grad=True only for floating point tensors\n",
    "y=w*x+b\n",
    "print(y)"
   ]
  },
  {
   "cell_type": "code",
   "execution_count": 61,
   "id": "0e19ece6-fc84-44b4-86c4-0165d792de9a",
   "metadata": {},
   "outputs": [],
   "source": [
    "\n",
    "#What makes PyTorch unique is that we can automatically compute the derivative of y w.r.t. the tensors that have requires_grad set to True i.e. w and b. This feature of PyTorch is called autograd (automatic gradients)."
   ]
  },
  {
   "cell_type": "code",
   "execution_count": 63,
   "id": "c95eab9b-5cb0-46a3-9c77-75c6b97c0a16",
   "metadata": {},
   "outputs": [],
   "source": [
    "\n",
    "y.backward()"
   ]
  },
  {
   "cell_type": "code",
   "execution_count": 67,
   "id": "9f5215ce-c097-4609-b2a1-ef8911e40ada",
   "metadata": {},
   "outputs": [
    {
     "name": "stdout",
     "output_type": "stream",
     "text": [
      "None dy/dx\n",
      "tensor(2.)\n",
      "tensor(1.)\n"
     ]
    }
   ],
   "source": [
    "print(x.grad,\"dy/dx\") #required_grad=False\n",
    "print(w.grad)\n",
    "print(b.grad)\n"
   ]
  },
  {
   "cell_type": "code",
   "execution_count": 69,
   "id": "d4e1fe97-5f92-4adc-9db5-732a64feb9db",
   "metadata": {},
   "outputs": [],
   "source": [
    "#Note:\n",
    "#Leaf Tensor: A tensor that is created directly and requires gradients.\n",
    "#Non-leaf Tensor: A tensor that results from an operation on other tensors."
   ]
  },
  {
   "cell_type": "code",
   "execution_count": 71,
   "id": "15cba88d-bfbc-4c25-b3df-adce821c26a2",
   "metadata": {},
   "outputs": [
    {
     "name": "stdout",
     "output_type": "stream",
     "text": [
      "tensor(4.)\n",
      "None\n"
     ]
    },
    {
     "name": "stderr",
     "output_type": "stream",
     "text": [
      "C:\\Users\\Srikanth\\AppData\\Local\\Temp\\ipykernel_34860\\1649621430.py:8: UserWarning: The .grad attribute of a Tensor that is not a leaf Tensor is being accessed. Its .grad attribute won't be populated during autograd.backward(). If you indeed want the .grad field to be populated for a non-leaf Tensor, use .retain_grad() on the non-leaf Tensor. If you access the non-leaf Tensor by mistake, make sure you access the leaf Tensor instead. See github.com/pytorch/pytorch/pull/30531 for more informations. (Triggered internally at C:\\actions-runner\\_work\\pytorch\\pytorch\\pytorch\\build\\aten\\src\\ATen/core/TensorBody.h:494.)\n",
      "  print(y.grad)\n"
     ]
    }
   ],
   "source": [
    "#retain_grad\n",
    "x=torch.tensor(2.,requires_grad=True)\n",
    "y=x*3 #non leaf tensor\n",
    "z=y+x #non leaf tensor\n",
    "\n",
    "z.backward()\n",
    "print(x.grad)\n",
    "print(y.grad)\n",
    "\n"
   ]
  },
  {
   "cell_type": "code",
   "execution_count": 73,
   "id": "5ea5ec3d-95f7-43d4-bdde-14e9b691bbf6",
   "metadata": {},
   "outputs": [
    {
     "name": "stdout",
     "output_type": "stream",
     "text": [
      "tensor(4.)\n",
      "tensor(1.)\n",
      "tensor(1.)\n"
     ]
    }
   ],
   "source": [
    "#retain_grad\n",
    "x=torch.tensor(2.,requires_grad=True)\n",
    "y=x*3 #non leaf tensor\n",
    "z=y+x #non leaf tensor\n",
    "y.retain_grad()  #enable gradient storage for y\n",
    "z.retain_grad()\n",
    "z.backward()\n",
    "print(x.grad)\n",
    "print(y.grad)\n",
    "print(z.grad)\n",
    "\n"
   ]
  },
  {
   "cell_type": "markdown",
   "id": "9fa27f54-0214-4919-8782-f5ba345389db",
   "metadata": {},
   "source": [
    "## Interoperability with Numpy"
   ]
  },
  {
   "cell_type": "code",
   "execution_count": 76,
   "id": "4f390940-d87b-4f54-a62e-d80b53ce7202",
   "metadata": {},
   "outputs": [],
   "source": [
    "import numpy as np\n"
   ]
  },
  {
   "cell_type": "code",
   "execution_count": 78,
   "id": "cb6dea22-ce82-48af-b4ff-4950159b38ae",
   "metadata": {},
   "outputs": [],
   "source": [
    "x=np.array([1,2,3,4.])"
   ]
  },
  {
   "cell_type": "code",
   "execution_count": 82,
   "id": "f1c6c1b6-a4fd-4e56-9f3a-dc3ac048f9f0",
   "metadata": {},
   "outputs": [
    {
     "data": {
      "text/plain": [
       "dtype('float64')"
      ]
     },
     "execution_count": 82,
     "metadata": {},
     "output_type": "execute_result"
    }
   ],
   "source": [
    "x.dtype"
   ]
  },
  {
   "cell_type": "code",
   "execution_count": 84,
   "id": "d3547dbe-79f8-4994-997d-04861942e6df",
   "metadata": {},
   "outputs": [],
   "source": [
    "#converting np array to tensor\n",
    "x=torch.from_numpy(x)"
   ]
  },
  {
   "cell_type": "code",
   "execution_count": 86,
   "id": "8e5f5c74-0370-45be-b2ff-04d650650246",
   "metadata": {},
   "outputs": [
    {
     "data": {
      "text/plain": [
       "torch.float64"
      ]
     },
     "execution_count": 86,
     "metadata": {},
     "output_type": "execute_result"
    }
   ],
   "source": [
    "x.dtype"
   ]
  },
  {
   "cell_type": "code",
   "execution_count": 88,
   "id": "a8fda443-4e9a-40cf-8d7c-4d76dbfb1c38",
   "metadata": {},
   "outputs": [],
   "source": [
    "#converting tensor to np array\n",
    "x=x.numpy()"
   ]
  },
  {
   "cell_type": "code",
   "execution_count": 90,
   "id": "67cc13e7-21ea-43aa-8878-c670451cee59",
   "metadata": {},
   "outputs": [
    {
     "data": {
      "text/plain": [
       "dtype('float64')"
      ]
     },
     "execution_count": 90,
     "metadata": {},
     "output_type": "execute_result"
    }
   ],
   "source": [
    "x.dtype"
   ]
  },
  {
   "cell_type": "markdown",
   "id": "31c82d38-e32f-4223-a67e-a10238cd9672",
   "metadata": {},
   "source": [
    "why pytorch since numpy is already there\n",
    "1.autograd\n",
    "2.gpu support\n"
   ]
  },
  {
   "cell_type": "markdown",
   "id": "f3773cd2-d5a3-4a7b-b8bb-9b39d8a70f45",
   "metadata": {},
   "source": [
    "## Linear regression model from scratch"
   ]
  },
  {
   "cell_type": "markdown",
   "id": "1d41e758-f325-411a-91f8-981e42aa2e7a",
   "metadata": {},
   "source": [
    "#### Train Data"
   ]
  },
  {
   "cell_type": "code",
   "execution_count": 95,
   "id": "1872a14f-a223-48c7-8025-15432d90e77e",
   "metadata": {},
   "outputs": [],
   "source": [
    "inputs = np.array([[73, 67, 43], \n",
    "                   [91, 88, 64], \n",
    "                   [87, 134, 58], \n",
    "                   [102, 43, 37], \n",
    "                   [69, 96, 70]], dtype='float32')\n",
    "targets = np.array([[56, 70], \n",
    "                    [81, 101], \n",
    "                    [119, 133], \n",
    "                    [22, 37], \n",
    "                    [103, 119]], dtype='float32')"
   ]
  },
  {
   "cell_type": "code",
   "execution_count": 99,
   "id": "1bc9cd7d-a046-4a3c-8b76-ae690fad867e",
   "metadata": {},
   "outputs": [],
   "source": [
    "#converting into tensors\n",
    "inputs=torch.from_numpy(inputs)\n",
    "targets=torch.from_numpy(targets)"
   ]
  },
  {
   "cell_type": "code",
   "execution_count": 102,
   "id": "9c3479c5-501b-4790-b5f9-173915a7f146",
   "metadata": {},
   "outputs": [],
   "source": [
    "w=torch.randn(2,3,requires_grad=True)\n",
    "b=torch.randn(2,requires_grad=True)"
   ]
  },
  {
   "cell_type": "markdown",
   "id": "edd34170-63ad-47f5-8f63-61cc68d1c42f",
   "metadata": {},
   "source": [
    "#### Model"
   ]
  },
  {
   "cell_type": "code",
   "execution_count": 108,
   "id": "c29d4a19-1cda-4967-8a1b-5fb45e44dd87",
   "metadata": {},
   "outputs": [],
   "source": [
    "\n",
    "def model(x):\n",
    "   return x@w.t()+b"
   ]
  },
  {
   "cell_type": "code",
   "execution_count": 118,
   "id": "b3e1e20a-0915-4691-b63f-0f38d762097d",
   "metadata": {},
   "outputs": [
    {
     "name": "stdout",
     "output_type": "stream",
     "text": [
      "tensor([[-116.7470, -212.8531],\n",
      "        [-158.5101, -278.8947],\n",
      "        [-203.5486, -289.4684],\n",
      "        [ -88.8564, -246.7457],\n",
      "        [-169.6721, -249.3427]], grad_fn=<AddBackward0>)\n",
      "tensor([[ 56.,  70.],\n",
      "        [ 81., 101.],\n",
      "        [119., 133.],\n",
      "        [ 22.,  37.],\n",
      "        [103., 119.]])\n"
     ]
    }
   ],
   "source": [
    "preds=model(inputs)\n",
    "print(preds)\n",
    "print(targets)"
   ]
  },
  {
   "cell_type": "markdown",
   "id": "9575a734-7392-44d5-bd46-21d6595e533c",
   "metadata": {},
   "source": [
    "#### Loss"
   ]
  },
  {
   "cell_type": "code",
   "execution_count": 114,
   "id": "4d900bf2-7e7b-4168-84b5-905599939c5f",
   "metadata": {},
   "outputs": [],
   "source": [
    "\n",
    "def mse_loss(t1,t2):\n",
    "    diff=t1-t2\n",
    "    return torch.sum(diff*diff)/diff.numel()\n",
    "    "
   ]
  },
  {
   "cell_type": "code",
   "execution_count": 126,
   "id": "e863bb0a-6449-4107-8dce-7b2f4bf3baeb",
   "metadata": {},
   "outputs": [],
   "source": [
    "loss=mse_loss(preds,targets)"
   ]
  },
  {
   "cell_type": "markdown",
   "id": "3585190a-0348-46d4-a594-be3c74655e40",
   "metadata": {},
   "source": [
    "#### Compute grads and adjust w and b"
   ]
  },
  {
   "cell_type": "code",
   "execution_count": 128,
   "id": "5c6a4655-2d70-487c-8bb0-238f958b2fa9",
   "metadata": {},
   "outputs": [],
   "source": [
    "loss.backward()\n"
   ]
  },
  {
   "cell_type": "code",
   "execution_count": 130,
   "id": "214f305b-b378-4385-b30d-e1a2c50bea96",
   "metadata": {},
   "outputs": [
    {
     "name": "stdout",
     "output_type": "stream",
     "text": [
      "tensor([[-0.1089, -1.0932, -0.8022],\n",
      "        [-1.8227, -0.5261, -1.0564]], requires_grad=True)\n",
      "tensor([[-18517.8809, -21363.1602, -12930.6641],\n",
      "        [-29266.2324, -31310.9258, -19452.3398]])\n"
     ]
    }
   ],
   "source": [
    "print(w)\n",
    "print(w.grad)"
   ]
  },
  {
   "cell_type": "markdown",
   "id": "c79f99a5-f413-4113-a0e1-e531e7b37516",
   "metadata": {},
   "source": [
    "A key insight from calculus is that the gradient indicates the rate of change of the loss, or the slope of the loss function w.r.t. the weights and biases."
   ]
  },
  {
   "cell_type": "markdown",
   "id": "7a539bbf-ec7a-4d37-bb13-1e6959449090",
   "metadata": {},
   "source": [
    "If a gradient element is positive:\n",
    "\n",
    "increasing the element's value slightly will increase the loss.\n",
    "decreasing the element's value slightly will decrease the loss.\n",
    "\n",
    "If a gradient element is negative:\n",
    "\n",
    "increasing the element's value slightly will decrease the loss.\n",
    "decreasing the element's value slightly will increase the loss.\n",
    "\n"
   ]
  },
  {
   "cell_type": "code",
   "execution_count": 142,
   "id": "7622fa9b-644a-4223-898a-b5bac981c2f0",
   "metadata": {},
   "outputs": [
    {
     "data": {
      "text/plain": [
       "tensor([0., 0.])"
      ]
     },
     "execution_count": 142,
     "metadata": {},
     "output_type": "execute_result"
    }
   ],
   "source": [
    "w.grad.zero_()\n",
    "b.grad.zero_()"
   ]
  },
  {
   "cell_type": "code",
   "execution_count": 144,
   "id": "3dd9ccc8-07a8-4cdb-9816-1898bdc9810b",
   "metadata": {},
   "outputs": [
    {
     "name": "stdout",
     "output_type": "stream",
     "text": [
      "epoch 0 tensor(89687.6875, grad_fn=<DivBackward0>)\n",
      "epoch 10 tensor(1092.9558, grad_fn=<DivBackward0>)\n",
      "epoch 20 tensor(114.9611, grad_fn=<DivBackward0>)\n",
      "epoch 30 tensor(56.1026, grad_fn=<DivBackward0>)\n",
      "epoch 40 tensor(37.5847, grad_fn=<DivBackward0>)\n",
      "epoch 50 tensor(28.8260, grad_fn=<DivBackward0>)\n",
      "epoch 60 tensor(23.3318, grad_fn=<DivBackward0>)\n",
      "epoch 70 tensor(19.2545, grad_fn=<DivBackward0>)\n",
      "epoch 80 tensor(16.0034, grad_fn=<DivBackward0>)\n",
      "epoch 90 tensor(13.3431, grad_fn=<DivBackward0>)\n"
     ]
    }
   ],
   "source": [
    "for i in range(100):\n",
    "    preds=model(inputs)\n",
    "    loss=mse_loss(preds,targets)\n",
    "    loss.backward()\n",
    "    with torch.no_grad():\n",
    "        w-=w.grad*1e-4\n",
    "        b-=b.grad*1e-4\n",
    "        w.grad.zero_()\n",
    "        b.grad.zero_()\n",
    "    if(i%10==0):\n",
    "        print(\"epoch\",i,loss)"
   ]
  },
  {
   "cell_type": "code",
   "execution_count": 146,
   "id": "210b807b-0601-4556-a3c8-7b898f971360",
   "metadata": {},
   "outputs": [
    {
     "name": "stdout",
     "output_type": "stream",
     "text": [
      "tensor([[ 57.2380,  70.7701],\n",
      "        [ 80.3922,  97.9595],\n",
      "        [122.6998, 138.3851],\n",
      "        [ 22.3406,  38.5136],\n",
      "        [ 97.8212, 113.7257]], grad_fn=<AddBackward0>)\n",
      "tensor([[ 56.,  70.],\n",
      "        [ 81., 101.],\n",
      "        [119., 133.],\n",
      "        [ 22.,  37.],\n",
      "        [103., 119.]])\n"
     ]
    }
   ],
   "source": [
    "print(model(inputs))\n",
    "print(targets)"
   ]
  },
  {
   "cell_type": "markdown",
   "id": "58624134-63ac-4dcb-a50e-21845b8fae07",
   "metadata": {},
   "source": [
    "## Linear Regression using Pytorch built-ins"
   ]
  },
  {
   "cell_type": "code",
   "execution_count": 19,
   "id": "ad42dcae-14a1-45c3-8299-37a9714c7172",
   "metadata": {},
   "outputs": [],
   "source": [
    "import torch.nn as nn\n",
    "import numpy as np\n"
   ]
  },
  {
   "cell_type": "code",
   "execution_count": 21,
   "id": "3813d0e9-5bcf-41fc-b025-545ba199f22a",
   "metadata": {},
   "outputs": [],
   "source": [
    "# Input (temp, rainfall, humidity)\n",
    "inputs = np.array([[73, 67, 43], [91, 88, 64], [87, 134, 58], \n",
    "                   [102, 43, 37], [69, 96, 70], [73, 67, 43], \n",
    "                   [91, 88, 64], [87, 134, 58], [102, 43, 37], \n",
    "                   [69, 96, 70], [73, 67, 43], [91, 88, 64], \n",
    "                   [87, 134, 58], [102, 43, 37], [69, 96, 70]], \n",
    "                  dtype='float32')\n",
    "\n",
    "# Targets (apples, oranges)\n",
    "targets = np.array([[56, 70], [81, 101], [119, 133], \n",
    "                    [22, 37], [103, 119], [56, 70], \n",
    "                    [81, 101], [119, 133], [22, 37], \n",
    "                    [103, 119], [56, 70], [81, 101], \n",
    "                    [119, 133], [22, 37], [103, 119]], \n",
    "                   dtype='float32')\n",
    "\n",
    "inputs = torch.from_numpy(inputs)\n",
    "targets = torch.from_numpy(targets)"
   ]
  },
  {
   "cell_type": "markdown",
   "id": "ec6de8c7-d181-4084-b147-67aa23dce825",
   "metadata": {},
   "source": [
    "#### Dataset and DataLoader"
   ]
  },
  {
   "cell_type": "code",
   "execution_count": 24,
   "id": "d93676b5-e6e3-4b5c-b8b7-618b056aed91",
   "metadata": {},
   "outputs": [],
   "source": [
    "from torch.utils.data import TensorDataset"
   ]
  },
  {
   "cell_type": "code",
   "execution_count": 26,
   "id": "2ca7c20f-31c7-43ee-bd86-8b3e62b64ffa",
   "metadata": {},
   "outputs": [],
   "source": [
    "train_ds=TensorDataset(inputs,targets)"
   ]
  },
  {
   "cell_type": "code",
   "execution_count": 28,
   "id": "087d6007-a683-4683-b286-cee9eb361e75",
   "metadata": {},
   "outputs": [
    {
     "data": {
      "text/plain": [
       "(tensor([[ 73.,  67.,  43.],\n",
       "         [ 91.,  88.,  64.],\n",
       "         [ 87., 134.,  58.]]),\n",
       " tensor([[ 56.,  70.],\n",
       "         [ 81., 101.],\n",
       "         [119., 133.]]))"
      ]
     },
     "execution_count": 28,
     "metadata": {},
     "output_type": "execute_result"
    }
   ],
   "source": [
    "train_ds[:3]"
   ]
  },
  {
   "cell_type": "code",
   "execution_count": 30,
   "id": "c73acc1b-b970-4ef0-a2c2-199c9e6e6855",
   "metadata": {},
   "outputs": [],
   "source": [
    "from torch.utils.data import DataLoader\n"
   ]
  },
  {
   "cell_type": "code",
   "execution_count": 32,
   "id": "1c5a8ba4-5cf7-477d-ac3a-6d32fc924fe0",
   "metadata": {},
   "outputs": [],
   "source": [
    "batch_size=5\n",
    "train_dl=DataLoader(train_ds,batch_size,shuffle=True)"
   ]
  },
  {
   "cell_type": "code",
   "execution_count": 34,
   "id": "9058d42c-3c40-4b44-b9ac-b2d4e142608a",
   "metadata": {},
   "outputs": [
    {
     "name": "stdout",
     "output_type": "stream",
     "text": [
      "tensor([[102.,  43.,  37.],\n",
      "        [ 87., 134.,  58.],\n",
      "        [ 87., 134.,  58.],\n",
      "        [ 87., 134.,  58.],\n",
      "        [102.,  43.,  37.]])\n",
      "tensor([[ 22.,  37.],\n",
      "        [119., 133.],\n",
      "        [119., 133.],\n",
      "        [119., 133.],\n",
      "        [ 22.,  37.]])\n"
     ]
    }
   ],
   "source": [
    "for xb, yb in train_dl:\n",
    "    print(xb)\n",
    "    print(yb)\n",
    "    break"
   ]
  },
  {
   "cell_type": "markdown",
   "id": "48601ba3-842f-48d6-93c6-b3cdcd2e77e2",
   "metadata": {},
   "source": [
    "#### nn.Linear"
   ]
  },
  {
   "cell_type": "code",
   "execution_count": 36,
   "id": "3c9a8953-e776-412a-b0f7-c30dd8850886",
   "metadata": {},
   "outputs": [
    {
     "name": "stdout",
     "output_type": "stream",
     "text": [
      "Parameter containing:\n",
      "tensor([0.4833, 0.1308], requires_grad=True)\n",
      "Parameter containing:\n",
      "tensor([[-0.0437, -0.1376, -0.3278],\n",
      "        [ 0.2117,  0.3588,  0.4039]], requires_grad=True)\n"
     ]
    }
   ],
   "source": [
    "\n",
    "model=nn.Linear(3,2) #nn.linear takes no  of inputs and no of outputs\n",
    "print(model.bias)\n",
    "print(model.weight)"
   ]
  },
  {
   "cell_type": "code",
   "execution_count": 38,
   "id": "af24b5a4-3b29-40c6-af81-ef01979255f8",
   "metadata": {},
   "outputs": [
    {
     "data": {
      "text/plain": [
       "[Parameter containing:\n",
       " tensor([[-0.0437, -0.1376, -0.3278],\n",
       "         [ 0.2117,  0.3588,  0.4039]], requires_grad=True),\n",
       " Parameter containing:\n",
       " tensor([0.4833, 0.1308], requires_grad=True)]"
      ]
     },
     "execution_count": 38,
     "metadata": {},
     "output_type": "execute_result"
    }
   ],
   "source": [
    "list(model.parameters())"
   ]
  },
  {
   "cell_type": "code",
   "execution_count": 42,
   "id": "757a5a89-7ac4-40d1-ab8a-b388bc0e8bcc",
   "metadata": {},
   "outputs": [
    {
     "data": {
      "text/plain": [
       "tensor([[-26.0203,  56.9950],\n",
       "        [-36.5800,  76.8229],\n",
       "        [-40.7670,  90.0587],\n",
       "        [-22.0191,  52.1002],\n",
       "        [-38.6859,  77.4587],\n",
       "        [-26.0203,  56.9950],\n",
       "        [-36.5800,  76.8229],\n",
       "        [-40.7670,  90.0587],\n",
       "        [-22.0191,  52.1002],\n",
       "        [-38.6859,  77.4587],\n",
       "        [-26.0203,  56.9950],\n",
       "        [-36.5800,  76.8229],\n",
       "        [-40.7670,  90.0587],\n",
       "        [-22.0191,  52.1002],\n",
       "        [-38.6859,  77.4587]], grad_fn=<AddmmBackward0>)"
      ]
     },
     "execution_count": 42,
     "metadata": {},
     "output_type": "execute_result"
    }
   ],
   "source": [
    "preds=model(inputs)\n",
    "preds"
   ]
  },
  {
   "cell_type": "markdown",
   "id": "e50708ca-d970-4a31-b4d3-42b20494145a",
   "metadata": {},
   "source": [
    "#### loss function"
   ]
  },
  {
   "cell_type": "code",
   "execution_count": 48,
   "id": "871c881a-41a2-47fb-aa90-17bcff379879",
   "metadata": {},
   "outputs": [
    {
     "name": "stdout",
     "output_type": "stream",
     "text": [
      "tensor(7264.1772, grad_fn=<MseLossBackward0>)\n"
     ]
    }
   ],
   "source": [
    "\n",
    "#mse loss\n",
    "import torch.nn.functional as F\n",
    "loss=F.mse_loss(preds,targets)\n",
    "print(loss)"
   ]
  },
  {
   "cell_type": "markdown",
   "id": "10a36890-efe9-4b5b-a312-e19c7376fcc3",
   "metadata": {},
   "source": [
    "#### optimizer "
   ]
  },
  {
   "cell_type": "code",
   "execution_count": 56,
   "id": "dbefbcff-c400-4cca-9b67-45bff51cc06b",
   "metadata": {},
   "outputs": [],
   "source": [
    "opt=torch.optim.SGD(model.parameters(),lr=1e-5)"
   ]
  },
  {
   "cell_type": "markdown",
   "id": "180a777e-e6ca-42c9-ad58-87baf125093d",
   "metadata": {},
   "source": [
    "## Train the model"
   ]
  },
  {
   "cell_type": "code",
   "execution_count": 59,
   "id": "dee56434-bdf0-488f-836d-f4fad0ad9e24",
   "metadata": {},
   "outputs": [],
   "source": [
    "def fit(num_epochs,model,loss_fn,opt):\n",
    "    for epoch in range(num_epochs):\n",
    "        for inputs,labels in train_dl:\n",
    "            preds=model(inputs)\n",
    "            loss=loss_fn(preds,labels)\n",
    "            loss.backward()\n",
    "            opt.step()\n",
    "            opt.zero_grad()\n",
    "        if(epoch+1)%10==0:\n",
    "            print('epoch {}/{} ,loss:{}'.format(epoch+1,num_epochs,loss.item()))"
   ]
  },
  {
   "cell_type": "code",
   "execution_count": 61,
   "id": "89621c92-d9a0-4345-947a-f9d2118d03bf",
   "metadata": {},
   "outputs": [
    {
     "name": "stdout",
     "output_type": "stream",
     "text": [
      "epoch 10/100 ,loss:234.9389190673828\n",
      "epoch 20/100 ,loss:244.00439453125\n",
      "epoch 30/100 ,loss:174.8479766845703\n",
      "epoch 40/100 ,loss:171.16860961914062\n",
      "epoch 50/100 ,loss:92.26490783691406\n",
      "epoch 60/100 ,loss:67.65383911132812\n",
      "epoch 70/100 ,loss:51.402191162109375\n",
      "epoch 80/100 ,loss:61.560752868652344\n",
      "epoch 90/100 ,loss:60.9277458190918\n",
      "epoch 100/100 ,loss:49.32697677612305\n"
     ]
    }
   ],
   "source": [
    "fit(100,model,F.mse_loss,opt)"
   ]
  },
  {
   "cell_type": "code",
   "execution_count": 65,
   "id": "d89ee355-fac7-4a2e-82d4-3cf33f087e27",
   "metadata": {},
   "outputs": [
    {
     "data": {
      "text/plain": [
       "tensor([[ 58.8452,  71.4282],\n",
       "        [ 79.8057,  99.1861],\n",
       "        [121.8324, 134.6933],\n",
       "        [ 29.7186,  43.0430],\n",
       "        [ 92.7711, 113.0525],\n",
       "        [ 58.8452,  71.4282],\n",
       "        [ 79.8057,  99.1861],\n",
       "        [121.8324, 134.6933],\n",
       "        [ 29.7186,  43.0430],\n",
       "        [ 92.7711, 113.0525],\n",
       "        [ 58.8452,  71.4282],\n",
       "        [ 79.8057,  99.1861],\n",
       "        [121.8324, 134.6933],\n",
       "        [ 29.7186,  43.0430],\n",
       "        [ 92.7711, 113.0525]], grad_fn=<AddmmBackward0>)"
      ]
     },
     "execution_count": 65,
     "metadata": {},
     "output_type": "execute_result"
    }
   ],
   "source": [
    "#predictions\n",
    "preds=model(inputs)\n",
    "preds"
   ]
  },
  {
   "cell_type": "code",
   "execution_count": null,
   "id": "60522a15-5276-4003-8814-8a2d914ae873",
   "metadata": {},
   "outputs": [],
   "source": []
  }
 ],
 "metadata": {
  "kernelspec": {
   "display_name": "Python [conda env:pytorch]",
   "language": "python",
   "name": "conda-env-pytorch-py"
  },
  "language_info": {
   "codemirror_mode": {
    "name": "ipython",
    "version": 3
   },
   "file_extension": ".py",
   "mimetype": "text/x-python",
   "name": "python",
   "nbconvert_exporter": "python",
   "pygments_lexer": "ipython3",
   "version": "3.12.9"
  }
 },
 "nbformat": 4,
 "nbformat_minor": 5
}
