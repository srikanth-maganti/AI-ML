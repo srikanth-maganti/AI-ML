{
 "cells": [
  {
   "cell_type": "markdown",
   "id": "66848ab0-1563-4b27-9432-d89dec677856",
   "metadata": {
    "jp-MarkdownHeadingCollapsed": true
   },
   "source": [
    "## makemore part3\n"
   ]
  },
  {
   "cell_type": "code",
   "execution_count": 34,
   "id": "a6dcd0c2-e274-43a3-ad90-d2e15c8769ad",
   "metadata": {},
   "outputs": [],
   "source": [
    "import torch\n",
    "import torch.nn.functional as F\n",
    "import matplotlib.pyplot as plt\n",
    "# !pip install matplotlib\n",
    "\n"
   ]
  },
  {
   "cell_type": "code",
   "execution_count": 36,
   "id": "c2b3577f-a2a6-413b-8632-50934b0673f7",
   "metadata": {},
   "outputs": [],
   "source": [
    "words=open(\"names.txt\",'r').read().splitlines()"
   ]
  },
  {
   "cell_type": "code",
   "execution_count": 38,
   "id": "5fe686ef-ee52-4fef-b271-4b1f9164eaae",
   "metadata": {},
   "outputs": [
    {
     "data": {
      "text/plain": [
       "['emma',\n",
       " 'olivia',\n",
       " 'ava',\n",
       " 'isabella',\n",
       " 'sophia',\n",
       " 'charlotte',\n",
       " 'mia',\n",
       " 'amelia',\n",
       " 'harper',\n",
       " 'evelyn']"
      ]
     },
     "execution_count": 38,
     "metadata": {},
     "output_type": "execute_result"
    }
   ],
   "source": [
    "words[:10]"
   ]
  },
  {
   "cell_type": "code",
   "execution_count": 40,
   "id": "ac83c5b6-57d8-453c-b48a-defeb0c7b5c7",
   "metadata": {},
   "outputs": [],
   "source": [
    "chars=sorted(list(set(''.join(words))))"
   ]
  },
  {
   "cell_type": "code",
   "execution_count": 42,
   "id": "08907df8-c1ee-4416-b0d8-3505ad49de18",
   "metadata": {},
   "outputs": [],
   "source": [
    "\n",
    "stoi={s:i+1 for i,s in enumerate(chars)}\n",
    "stoi['.']=0\n",
    "itos={i:s for s,i in stoi.items()}\n"
   ]
  },
  {
   "cell_type": "code",
   "execution_count": 44,
   "id": "26a9d82c-6542-4e35-8729-cc6ed6fe4786",
   "metadata": {},
   "outputs": [
    {
     "name": "stdout",
     "output_type": "stream",
     "text": [
      "torch.Size([182408, 3]) torch.Size([182408])\n",
      "torch.Size([22794, 3]) torch.Size([22794])\n",
      "torch.Size([22944, 3]) torch.Size([22944])\n"
     ]
    }
   ],
   "source": [
    "#build dataset\n",
    "block_size=3\n",
    "def build_dataset(words):\n",
    "    X=[]\n",
    "    Y=[]\n",
    "    for word in words:\n",
    "        context=[0]*block_size\n",
    "       \n",
    "        for ch in word+'.':\n",
    "            ix=stoi[ch]\n",
    "            X.append(context)\n",
    "            Y.append(ix)\n",
    "            context=context[1:]+[ix]\n",
    "    X=torch.tensor(X)  \n",
    "    Y=torch.tensor(Y)\n",
    "    print(X.shape,Y.shape)\n",
    "    return X,Y\n",
    "import random\n",
    "random.seed(32)\n",
    "random.shuffle(words)\n",
    "n1=int(0.8*len(words))\n",
    "n2=int(0.9*len(words))\n",
    "\n",
    "Xtr,Ytr=build_dataset(words[:n1])\n",
    "Xdev,Ydev=build_dataset(words[n1:n2])\n",
    "Xte,Yte=build_dataset(words[n2:])\n",
    "\n",
    "        "
   ]
  },
  {
   "cell_type": "code",
   "execution_count": 135,
   "id": "c212d91f-2a19-4f6e-af8b-353ec72830c8",
   "metadata": {},
   "outputs": [],
   "source": [
    "#mlp revisted\n",
    "n_emb=10\n",
    "n_hidden=200\n",
    "g=torch.Generator().manual_seed(2147483647)\n",
    "C=torch.randn((27,n_emb),generator=g)\n",
    "w1=torch.randn((block_size*n_emb,n_hidden))*0.1\n",
    "b1=torch.randn(n_hidden,generator=g)*0.01\n",
    "\n",
    "w2=torch.randn((n_hidden,27),generator=g)*0.01 #to create uniform distribution initially\n",
    "b2=torch.randn(27,generator=g)*0\n",
    "\n",
    "parameters=[C,w1,b1,w2,b2]\n",
    "for p in parameters:\n",
    "    p.requires_grad=True\n"
   ]
  },
  {
   "cell_type": "code",
   "execution_count": 151,
   "id": "f4001d8c-b105-40b3-9d82-bdc065c7856b",
   "metadata": {},
   "outputs": [
    {
     "name": "stdout",
     "output_type": "stream",
     "text": [
      "      0/ 200000: 2.1838\n",
      "  10000/ 200000: 1.9679\n",
      "  20000/ 200000: 2.4576\n",
      "  30000/ 200000: 2.4378\n",
      "  40000/ 200000: 2.0473\n",
      "  50000/ 200000: 2.2142\n",
      "  60000/ 200000: 2.2586\n",
      "  70000/ 200000: 1.9600\n",
      "  80000/ 200000: 2.1061\n",
      "  90000/ 200000: 2.0341\n",
      " 100000/ 200000: 1.6900\n",
      " 110000/ 200000: 2.1113\n",
      " 120000/ 200000: 2.0203\n",
      " 130000/ 200000: 2.5328\n",
      " 140000/ 200000: 2.1611\n",
      " 150000/ 200000: 1.9414\n",
      " 160000/ 200000: 1.9136\n",
      " 170000/ 200000: 2.2620\n",
      " 180000/ 200000: 1.9491\n",
      " 190000/ 200000: 2.2236\n"
     ]
    }
   ],
   "source": [
    "#model training\n",
    "max_steps=200000\n",
    "batch_size=32\n",
    "lossi=[]\n",
    "for i in range(max_steps):\n",
    "    ix=torch.randint(0,Xtr.shape[0],(batch_size,),generator=g)\n",
    "    Xb=Xtr[ix]\n",
    "    Yb=Ytr[ix]\n",
    "\n",
    "    #forward pass\n",
    "    emb=C[Xb]\n",
    "    \n",
    "    embcat=emb.view(emb.shape[0],-1)\n",
    "    hreact=embcat@w1+b1\n",
    "    h=torch.tanh(hreact)\n",
    "    logits=h@w2+b2\n",
    "    loss=F.cross_entropy(logits,Yb)\n",
    "    \n",
    "    #backward pass\n",
    "    for param in parameters:\n",
    "        param.grad=None\n",
    "    loss.backward()\n",
    "    lr=0.1 if i<100000 else 0.01\n",
    "    for p in parameters:\n",
    "        p.data+=-lr*p.grad\n",
    "    if i % 10000 == 0: # print every once in a while\n",
    "        print(f'{i:7d}/{max_steps:7d}: {loss.item():.4f}')\n",
    "    lossi.append(loss)\n",
    "    \n",
    "        "
   ]
  },
  {
   "cell_type": "code",
   "execution_count": 117,
   "id": "ad6dcbc5-2641-44d1-9149-e40ed387777a",
   "metadata": {},
   "outputs": [
    {
     "data": {
      "text/plain": [
       "tensor([[-1.0000, -1.0000, -0.9903,  ..., -0.9999,  0.2809,  0.9993],\n",
       "        [-1.0000,  1.0000,  0.9921,  ...,  0.4231, -0.9999,  0.9996],\n",
       "        [-0.9102, -0.7729,  0.8700,  ...,  0.8865,  0.3857, -0.9987],\n",
       "        ...,\n",
       "        [-1.0000,  1.0000, -0.9996,  ..., -1.0000,  0.9738, -1.0000],\n",
       "        [-1.0000, -0.9960, -0.9992,  ..., -1.0000, -1.0000, -1.0000],\n",
       "        [-0.2689, -0.9736, -1.0000,  ..., -0.9973, -0.9848, -0.9986]],\n",
       "       grad_fn=<TanhBackward0>)"
      ]
     },
     "execution_count": 117,
     "metadata": {},
     "output_type": "execute_result"
    }
   ],
   "source": [
    "h"
   ]
  },
  {
   "cell_type": "code",
   "execution_count": 141,
   "id": "db4ac551-dea2-4216-a0ae-64693e08062f",
   "metadata": {},
   "outputs": [
    {
     "data": {
      "text/plain": [
       "<matplotlib.image.AxesImage at 0x28930085b50>"
      ]
     },
     "execution_count": 141,
     "metadata": {},
     "output_type": "execute_result"
    },
    {
     "data": {
      "image/png": "[encoded data removed]",
      "text/plain": [
       "<Figure size 2000x1000 with 1 Axes>"
      ]
     },
     "metadata": {},
     "output_type": "display_data"
    }
   ],
   "source": [
    "plt.figure(figsize=(20,10))\n",
    "plt.imshow(h.abs()>0.99,cmap='gray',interpolation='nearest')"
   ]
  },
  {
   "cell_type": "code",
   "execution_count": 145,
   "id": "35c850e4-1ebf-43ef-b8b6-8ff3100a52a3",
   "metadata": {},
   "outputs": [
    {
     "data": {
      "text/plain": [
       "(array([326., 153., 124., 100.,  73.,  83.,  85.,  81.,  75., 107.,  83.,\n",
       "         69.,  90.,  79.,  80., 112., 104., 141., 116., 122., 141., 169.,\n",
       "        187., 208., 247., 236., 189., 172., 173., 125., 132., 104., 137.,\n",
       "        127., 114., 114.,  91.,  86.,  84.,  78.,  86.,  78.,  83.,  93.,\n",
       "         77.,  78.,  91., 130., 145., 422.]),\n",
       " array([-9.99996662e-01, -9.59996763e-01, -9.19996865e-01, -8.79996966e-01,\n",
       "        -8.39997067e-01, -7.99997169e-01, -7.59997270e-01, -7.19997371e-01,\n",
       "        -6.79997473e-01, -6.39997574e-01, -5.99997675e-01, -5.59997777e-01,\n",
       "        -5.19997878e-01, -4.79997979e-01, -4.39998081e-01, -3.99998182e-01,\n",
       "        -3.59998283e-01, -3.19998385e-01, -2.79998486e-01, -2.39998587e-01,\n",
       "        -1.99998689e-01, -1.59998790e-01, -1.19998891e-01, -7.99989927e-02,\n",
       "        -3.99990940e-02,  8.04662704e-07,  4.00007033e-02,  8.00006020e-02,\n",
       "         1.20000501e-01,  1.60000399e-01,  2.00000298e-01,  2.40000197e-01,\n",
       "         2.80000095e-01,  3.19999994e-01,  3.59999893e-01,  3.99999791e-01,\n",
       "         4.39999690e-01,  4.79999589e-01,  5.19999487e-01,  5.59999386e-01,\n",
       "         5.99999285e-01,  6.39999183e-01,  6.79999082e-01,  7.19998981e-01,\n",
       "         7.59998879e-01,  7.99998778e-01,  8.39998677e-01,  8.79998575e-01,\n",
       "         9.19998474e-01,  9.59998373e-01,  9.99998271e-01]),\n",
       " <BarContainer object of 50 artists>)"
      ]
     },
     "execution_count": 145,
     "metadata": {},
     "output_type": "execute_result"
    },
    {
     "data": {
      "image/png": "[encoded data removed]",
      "text/plain": [
       "<Figure size 640x480 with 1 Axes>"
      ]
     },
     "metadata": {},
     "output_type": "display_data"
    }
   ],
   "source": [
    "plt.hist(h.view(-1).tolist(),50)"
   ]
  },
  {
   "cell_type": "code",
   "execution_count": 147,
   "id": "264e7be2-0693-4e2f-a3d3-863e6ced62cd",
   "metadata": {},
   "outputs": [
    {
     "data": {
      "text/plain": [
       "(array([1.000e+00, 3.000e+00, 3.000e+00, 3.000e+00, 2.000e+00, 3.000e+00,\n",
       "        5.000e+00, 5.000e+00, 6.000e+00, 1.300e+01, 9.000e+00, 1.100e+01,\n",
       "        3.100e+01, 3.100e+01, 3.600e+01, 6.300e+01, 7.900e+01, 1.010e+02,\n",
       "        1.370e+02, 1.720e+02, 2.110e+02, 3.400e+02, 4.490e+02, 8.600e+02,\n",
       "        1.365e+03, 7.530e+02, 4.500e+02, 2.970e+02, 1.890e+02, 1.690e+02,\n",
       "        1.320e+02, 9.700e+01, 7.400e+01, 7.800e+01, 6.300e+01, 3.900e+01,\n",
       "        3.200e+01, 1.800e+01, 1.200e+01, 1.700e+01, 1.900e+01, 6.000e+00,\n",
       "        4.000e+00, 1.000e+00, 0.000e+00, 4.000e+00, 1.000e+00, 4.000e+00,\n",
       "        0.000e+00, 2.000e+00]),\n",
       " array([-6.64892387, -6.37635281, -6.10378174, -5.83121067, -5.5586396 ,\n",
       "        -5.28606853, -5.01349747, -4.7409264 , -4.46835533, -4.19578426,\n",
       "        -3.9232132 , -3.65064213, -3.37807106, -3.10549999, -2.83292892,\n",
       "        -2.56035786, -2.28778679, -2.01521572, -1.74264465, -1.47007359,\n",
       "        -1.19750252, -0.92493145, -0.65236038, -0.37978931, -0.10721825,\n",
       "         0.16535282,  0.43792389,  0.71049496,  0.98306602,  1.25563709,\n",
       "         1.52820816,  1.80077923,  2.0733503 ,  2.34592136,  2.61849243,\n",
       "         2.8910635 ,  3.16363457,  3.43620564,  3.7087767 ,  3.98134777,\n",
       "         4.25391884,  4.52648991,  4.79906097,  5.07163204,  5.34420311,\n",
       "         5.61677418,  5.88934525,  6.16191631,  6.43448738,  6.70705845,\n",
       "         6.97962952]),\n",
       " <BarContainer object of 50 artists>)"
      ]
     },
     "execution_count": 147,
     "metadata": {},
     "output_type": "execute_result"
    },
    {
     "data": {
      "image/png": "[encoded data removed]",
      "text/plain": [
       "<Figure size 640x480 with 1 Axes>"
      ]
     },
     "metadata": {},
     "output_type": "display_data"
    }
   ],
   "source": [
    "plt.hist(hreact.view(-1).tolist(),50)"
   ]
  },
  {
   "cell_type": "code",
   "execution_count": 90,
   "id": "8810835f-08c7-4fab-aa95-31572ce1c419",
   "metadata": {},
   "outputs": [
    {
     "name": "stdout",
     "output_type": "stream",
     "text": [
      "2.1276886463165283\n",
      "2.166318416595459\n"
     ]
    }
   ],
   "source": [
    "@torch.no_grad() #this decorator disable gradient tracking\n",
    "def split_loss(split):\n",
    "    x,y={'train':(Xtr,Ytr),\n",
    "        'dev':(Xdev,Ydev),\n",
    "        'test':(Xte,Yte)}[split]\n",
    "    emb=C[x]\n",
    "    embcat=e.view(emb.shape[0],-1)\n",
    "    hreact=embcat@w1+b1\n",
    "    h=torch.tanh(hreact)\n",
    "\n",
    "    logits=h@w2+b2\n",
    "    loss=F.cross_entropy(logits,y)\n",
    "    print(loss.item())\n",
    "split_loss('train')\n",
    "split_loss('dev')\n",
    "    "
   ]
  },
  {
   "cell_type": "markdown",
   "id": "7c187661-3eeb-46dd-a3e3-168f8f50b501",
   "metadata": {},
   "source": [
    "## points to note"
   ]
  },
  {
   "cell_type": "code",
   "execution_count": 100,
   "id": "b0bc6976-e56e-4d0a-b2e0-eb3022271bad",
   "metadata": {},
   "outputs": [
    {
     "data": {
      "text/plain": [
       "tensor(0.0535)"
      ]
     },
     "execution_count": 100,
     "metadata": {},
     "output_type": "execute_result"
    }
   ],
   "source": [
    "\n",
    "#1.fix initial loss ,we expect uniform distribution of probabliites or near to zero\n",
    "logits=torch.tensor([1.0,1.0,1.0,1.0])\n",
    "probs=torch.softmax(logits,dim=0)\n",
    "loss=-probs[2].log()\n",
    "loss"
   ]
  },
  {
   "cell_type": "code",
   "execution_count": 102,
   "id": "c414c346-aab5-4a63-addf-c4d71e10fa80",
   "metadata": {},
   "outputs": [
    {
     "data": {
      "text/plain": [
       "tensor(3.2958)"
      ]
     },
     "execution_count": 102,
     "metadata": {},
     "output_type": "execute_result"
    }
   ],
   "source": [
    "-torch.tensor(1/27.0).log() #THIS WHAT expecting intial loss "
   ]
  },
  {
   "cell_type": "code",
   "execution_count": 114,
   "id": "6a9e4dc2-29a7-4c2e-994b-4a29715e9062",
   "metadata": {},
   "outputs": [],
   "source": [
    "#multiply w2 with 0.01 and b2 with 0\n",
    "#changing initail loss help us to maximize the no of iterations for optimizing neural net instead of wasting some iteration for sqashing down the initial loss"
   ]
  },
  {
   "cell_type": "code",
   "execution_count": 129,
   "id": "7f13da8d-efa7-4421-9f95-7dd1752754bb",
   "metadata": {},
   "outputs": [],
   "source": [
    "#2.fixing the saturated tanh\n",
    "# many values of h takes 1 or -1 since tanh squashes values in between -1 to 1\n",
    "#tanh backpropagation\n",
    "#self.grad+=(1-t**2)*out.grad\n",
    "#when t ==-1 or 1 self.grad not get updated,backward gradient get destroyed  as neuron is in flat tail\n"
   ]
  },
  {
   "cell_type": "code",
   "execution_count": 149,
   "id": "6a675691-0788-4981-89d3-4724cad9998d",
   "metadata": {},
   "outputs": [],
   "source": [
    "#200 neurons and 32 inputs if any one of the vertical line is completely white then it is dead neuron\n",
    "# for any example if the neuron never activate ,ie it produces +1 or -1 then it dead neuron that means it never learn ,weights and bais are never changes\n",
    "#sometimes for higher learning rate neuraon gets too much of a gradient and they knock out ,from then on no example can activate this neuron ,it remains as dead neuron\n",
    "#activation functions with flat parts may suffer from this issue\n",
    "#hreact to far from zero ,we need to make hreact near to zero\n",
    "#mutiply w1 and b1 with 0.01"
   ]
  },
  {
   "cell_type": "code",
   "execution_count": 153,
   "id": "d48e7ec2-16c5-4e69-abc8-0a0d49b78b10",
   "metadata": {},
   "outputs": [],
   "source": [
    "# deeper the network ,it will less forgiving to these errors"
   ]
  },
  {
   "cell_type": "code",
   "execution_count": 167,
   "id": "76444585-b659-43e5-9ff0-3500d31fa47b",
   "metadata": {},
   "outputs": [
    {
     "name": "stdout",
     "output_type": "stream",
     "text": [
      "tensor(-0.0013) tensor(1.0083)\n",
      "tensor(0.0015) tensor(1.0216)\n"
     ]
    },
    {
     "data": {
      "text/plain": [
       "(array([3.81427969e-05, 0.00000000e+00, 7.62855937e-05, 3.81428662e-05,\n",
       "        3.81427969e-05, 1.14428391e-04, 1.52571465e-04, 5.72142994e-04,\n",
       "        8.39141531e-04, 1.39221335e-03, 2.07878432e-03, 4.17663626e-03,\n",
       "        7.57135206e-03, 1.34453481e-02, 2.32671272e-02, 3.83144743e-02,\n",
       "        5.81296224e-02, 9.33165222e-02, 1.36341427e-01, 1.94433261e-01,\n",
       "        2.56472166e-01, 3.27590007e-01, 3.89342599e-01, 4.15470415e-01,\n",
       "        4.16481956e-01, 3.69985130e-01, 3.09586574e-01, 2.41825332e-01,\n",
       "        1.75895828e-01, 1.20626595e-01, 8.33612342e-02, 5.17025611e-02,\n",
       "        3.34130901e-02, 2.02728965e-02, 1.18624530e-02, 6.99920322e-03,\n",
       "        3.89056528e-03, 2.51742459e-03, 1.25871688e-03, 4.57713562e-04,\n",
       "        4.38642164e-04, 2.47928180e-04, 1.33499789e-04, 3.81429356e-05,\n",
       "        5.72141953e-05, 0.00000000e+00, 0.00000000e+00, 0.00000000e+00,\n",
       "        0.00000000e+00, 1.90713984e-05]),\n",
       " array([-6.25580883, -5.99363613, -5.73146391, -5.46929121, -5.20711899,\n",
       "        -4.94494629, -4.68277359, -4.42060137, -4.15842915, -3.89625645,\n",
       "        -3.63408399, -3.37191153, -3.10973883, -2.84756637, -2.58539391,\n",
       "        -2.32322145, -2.06104898, -1.79887629, -1.53670406, -1.27453136,\n",
       "        -1.01235914, -0.75018644, -0.48801422, -0.22584152,  0.03633118,\n",
       "         0.2985034 ,  0.5606761 ,  0.82284832,  1.08502102,  1.34719324,\n",
       "         1.60936594,  1.87153816,  2.13371086,  2.39588356,  2.65805626,\n",
       "         2.920228  ,  3.1824007 ,  3.4445734 ,  3.7067461 ,  3.96891785,\n",
       "         4.23109055,  4.49326324,  4.75543594,  5.01760864,  5.27978039,\n",
       "         5.54195309,  5.80412579,  6.06629848,  6.32847118,  6.59064293,\n",
       "         6.85281563]),\n",
       " <BarContainer object of 50 artists>)"
      ]
     },
     "execution_count": 167,
     "metadata": {},
     "output_type": "execute_result"
    },
    {
     "data": {
      "image/png": "[encoded data removed]",
      "text/plain": [
       "<Figure size 2000x500 with 2 Axes>"
      ]
     },
     "metadata": {},
     "output_type": "display_data"
    }
   ],
   "source": [
    "#identifying  multiplication terms \n",
    "#preserve guassian std \n",
    "x=torch.randn(1000,10)\n",
    "w=torch.randn(10,200)/(10**0.5)\n",
    "y=x@w\n",
    "\n",
    "print(x.mean(),x.std())\n",
    "print(y.mean(),y.std())\n",
    "plt.figure(figsize=(20,5))\n",
    "plt.subplot(121)\n",
    "plt.hist(x.view(-1),50,density=True)\n",
    "plt.subplot(122)\n",
    "plt.hist(y.view(-1),50,density=True)"
   ]
  },
  {
   "cell_type": "code",
   "execution_count": null,
   "id": "b6dd0a9d-938f-49f8-baf0-fa3f8c35f8d0",
   "metadata": {},
   "outputs": [],
   "source": []
  }
 ],
 "metadata": {
  "kernelspec": {
   "display_name": "Python [conda env:pytorch]",
   "language": "python",
   "name": "conda-env-pytorch-py"
  },
  "language_info": {
   "codemirror_mode": {
    "name": "ipython",
    "version": 3
   },
   "file_extension": ".py",
   "mimetype": "text/x-python",
   "name": "python",
   "nbconvert_exporter": "python",
   "pygments_lexer": "ipython3",
   "version": "3.12.9"
  }
 },
 "nbformat": 4,
 "nbformat_minor": 5
}
