{
 "cells": [
  {
   "cell_type": "markdown",
   "id": "b12660ef-0a13-4e75-9bee-a00fb4fec4d0",
   "metadata": {},
   "source": [
    "## Working with Images & Logistic Regression in Pytorch"
   ]
  },
  {
   "cell_type": "code",
   "execution_count": 6,
   "id": "62daab54-6064-4a0d-97a6-4146695c2fb9",
   "metadata": {},
   "outputs": [],
   "source": [
    "import torch\n",
    "import torch.nn as nn\n",
    "import torchvision\n",
    "from torchvision.datasets import MNIST"
   ]
  },
  {
   "cell_type": "markdown",
   "id": "52077f65-ce65-4967-8cec-73e7100457f6",
   "metadata": {},
   "source": [
    "### downloading dataset"
   ]
  },
  {
   "cell_type": "code",
   "execution_count": 8,
   "id": "83731797-677c-40d0-8edc-9608d045b486",
   "metadata": {},
   "outputs": [],
   "source": [
    "\n",
    "dataset=MNIST(root=\"/data\",download=True)\n",
    "test_dataset=MNIST(root=\"/data\",train=False)"
   ]
  },
  {
   "cell_type": "code",
   "execution_count": 9,
   "id": "c286f23c-8fba-4966-a638-ddc09ff90f05",
   "metadata": {},
   "outputs": [
    {
     "name": "stdout",
     "output_type": "stream",
     "text": [
      "60000\n",
      "10000\n"
     ]
    }
   ],
   "source": [
    "print(len(dataset))\n",
    "print(len(test_dataset))"
   ]
  },
  {
   "cell_type": "code",
   "execution_count": 13,
   "id": "1e9f9b3e-983a-4100-8c0a-daeb853ef435",
   "metadata": {},
   "outputs": [
    {
     "data": {
      "text/plain": [
       "(<PIL.Image.Image image mode=L size=28x28>, 5)"
      ]
     },
     "execution_count": 13,
     "metadata": {},
     "output_type": "execute_result"
    }
   ],
   "source": [
    "dataset[0] #tuple of pillow object and label"
   ]
  },
  {
   "cell_type": "code",
   "execution_count": 15,
   "id": "b3f4809d-1081-4de8-8933-3b5e2447430c",
   "metadata": {},
   "outputs": [],
   "source": [
    "import matplotlib.pyplot as plt\n"
   ]
  },
  {
   "cell_type": "code",
   "execution_count": 16,
   "id": "df59ca30-46e3-46ac-a9ca-0ff1521a4cb4",
   "metadata": {},
   "outputs": [
    {
     "name": "stdout",
     "output_type": "stream",
     "text": [
      "5\n"
     ]
    },
    {
     "data": {
      "image/png": "[encoded data removed]",
      "text/plain": [
       "<Figure size 640x480 with 1 Axes>"
      ]
     },
     "metadata": {},
     "output_type": "display_data"
    }
   ],
   "source": [
    "plt.imshow(dataset[0][0],cmap=\"gray\")\n",
    "print(dataset[0][1])\n",
    "    "
   ]
  },
  {
   "cell_type": "code",
   "execution_count": 18,
   "id": "405899fc-7942-42fa-ae49-b38d34740fad",
   "metadata": {},
   "outputs": [],
   "source": [
    "#pytorch doesnt know how to work with images.we need to convert the images into tensor \n",
    "import torchvision.transforms as transforms"
   ]
  },
  {
   "cell_type": "code",
   "execution_count": 21,
   "id": "8df468e6-77af-4d54-be30-f222ec32b8bc",
   "metadata": {},
   "outputs": [],
   "source": [
    "dataset=MNIST(root=\"/data\" ,train=True,transform=transforms.ToTensor())\n",
    "test_dataset=MNIST(root=\"/data\",train=False,transform=transforms.ToTensor())\n",
    "\n"
   ]
  },
  {
   "cell_type": "code",
   "execution_count": 23,
   "id": "4ea8ff80-8d97-4000-80ee-1bf581a61aaf",
   "metadata": {},
   "outputs": [
    {
     "name": "stdout",
     "output_type": "stream",
     "text": [
      "torch.Size([1, 28, 28])\n"
     ]
    }
   ],
   "source": [
    "image,label=dataset[0]\n",
    "print(image.shape)# image is of 28x28 pixels shape and 1 color channel"
   ]
  },
  {
   "cell_type": "markdown",
   "id": "504eec72-67d2-47a2-84ef-e136cdc43603",
   "metadata": {},
   "source": [
    "### Splitting data into train ,val and test data"
   ]
  },
  {
   "cell_type": "code",
   "execution_count": 26,
   "id": "e613fdf1-0500-4972-b6c0-73cbf343b098",
   "metadata": {},
   "outputs": [],
   "source": [
    "from torch.utils.data import random_split"
   ]
  },
  {
   "cell_type": "code",
   "execution_count": 28,
   "id": "6caedaf5-e01d-4551-8935-768a544b3ac0",
   "metadata": {},
   "outputs": [],
   "source": [
    "train_ds,val_ds=random_split(dataset,[50000,10000])"
   ]
  },
  {
   "cell_type": "code",
   "execution_count": 30,
   "id": "36cf2f13-0c02-4036-b361-c1c43024de17",
   "metadata": {},
   "outputs": [
    {
     "name": "stdout",
     "output_type": "stream",
     "text": [
      "50000 10000\n"
     ]
    }
   ],
   "source": [
    "print(len(train_ds) ,len(val_ds))"
   ]
  },
  {
   "cell_type": "code",
   "execution_count": 32,
   "id": "59505db1-1138-42c5-972c-f649a676e748",
   "metadata": {},
   "outputs": [],
   "source": [
    "#Creating batches\n",
    "from torch.utils.data import TensorDataset\n",
    "from torch.utils.data import DataLoader\n"
   ]
  },
  {
   "cell_type": "code",
   "execution_count": 34,
   "id": "5077e1db-4105-47f6-a7e2-13032833a568",
   "metadata": {},
   "outputs": [],
   "source": [
    "batch_size=128\n",
    "train_dl=DataLoader(train_ds,batch_size,shuffle=True)\n",
    "val_dl=DataLoader(val_ds,batch_size)\n"
   ]
  },
  {
   "cell_type": "markdown",
   "id": "7a7baea1-2dc7-4c00-bf54-b94467b2dce1",
   "metadata": {},
   "source": [
    "### Model"
   ]
  },
  {
   "cell_type": "markdown",
   "id": "d0d5c9e9-eb01-41bf-8b99-8e075174aaae",
   "metadata": {},
   "source": [
    "To include additional functionality (reshaping) within our model, we need to define a custom model by extending the nn.Module class from PyTorch."
   ]
  },
  {
   "cell_type": "code",
   "execution_count": 38,
   "id": "fbe0b93d-94db-4667-b507-86490f563351",
   "metadata": {},
   "outputs": [],
   "source": [
    "input_size=28*28\n",
    "target_size=10"
   ]
  },
  {
   "cell_type": "code",
   "execution_count": 113,
   "id": "51c99c87-20cf-4187-aee8-4dc23b4c1ec4",
   "metadata": {},
   "outputs": [],
   "source": [
    "class MNIST_model(nn.Module):\n",
    "    def __init__(self):\n",
    "        super().__init__()\n",
    "        self.linear=nn.Linear(input_size,target_size)\n",
    "    def forward(self,xb):\n",
    "        xb=xb.reshape(-1,28*28)\n",
    "        oout=self.linear(xb)\n",
    "        return oout\n",
    "    def training_step(self,batch):\n",
    "        images,labels=batch\n",
    "        outputs=self(images)\n",
    "        loss=F.cross_entropy(outputs,labels)\n",
    "        return loss\n",
    "    def validation_step(self,batch):\n",
    "        images, labels = batch \n",
    "        out = self(images)                    # Generate predictions\n",
    "        loss = F.cross_entropy(out, labels)   # Calculate loss\n",
    "        acc = accuracy(out, labels)           # Calculate accuracy\n",
    "        return {'val_loss': loss, 'val_acc': acc}\n",
    "    def validation_epoch_end(self,outputs):\n",
    "        acc=[x[\"val_acc\"] for x in outputs]\n",
    "        loss=[x['val_loss'] for x in outputs]\n",
    "\n",
    "        mean_acc=torch.stack(acc).mean()\n",
    "        mean_loss=torch.stack(loss).mean()\n",
    "        return {\"val_loss\":mean_loss.item(),\"val_acc\":mean_acc.item()}\n",
    "    def epoch_end(self,epoch,result):\n",
    "        print(\"Epoch [{}], val_loss: {:.4f}, val_acc: {:.4f}\".format(epoch, result['val_loss'], result['val_acc']))\n",
    "model=MNIST_model()\n"
   ]
  },
  {
   "cell_type": "code",
   "execution_count": 95,
   "id": "0b632f5c-f1db-4f3e-9561-1ede8d360121",
   "metadata": {},
   "outputs": [],
   "source": []
  },
  {
   "cell_type": "code",
   "execution_count": 44,
   "id": "08b0cbde-3386-4d61-977b-f0f0702a81d3",
   "metadata": {},
   "outputs": [
    {
     "data": {
      "text/plain": [
       "Parameter containing:\n",
       "tensor([ 0.0279,  0.0122, -0.0159,  0.0091, -0.0067,  0.0189, -0.0313, -0.0321,\n",
       "         0.0052, -0.0113], requires_grad=True)"
      ]
     },
     "execution_count": 44,
     "metadata": {},
     "output_type": "execute_result"
    }
   ],
   "source": [
    "model.linear.bias\n"
   ]
  },
  {
   "cell_type": "code",
   "execution_count": 46,
   "id": "a70bf84a-10be-44ef-97fc-05b72dae249d",
   "metadata": {},
   "outputs": [
    {
     "data": {
      "text/plain": [
       "Parameter containing:\n",
       "tensor([[ 0.0139, -0.0277,  0.0253,  ...,  0.0329,  0.0274, -0.0202],\n",
       "        [ 0.0332,  0.0336, -0.0007,  ..., -0.0338,  0.0324, -0.0043],\n",
       "        [-0.0230,  0.0234,  0.0269,  ..., -0.0349,  0.0268, -0.0083],\n",
       "        ...,\n",
       "        [-0.0020, -0.0332,  0.0350,  ..., -0.0342, -0.0319,  0.0228],\n",
       "        [-0.0259,  0.0127,  0.0122,  ..., -0.0097,  0.0110,  0.0147],\n",
       "        [ 0.0190, -0.0048, -0.0027,  ..., -0.0253, -0.0320, -0.0055]],\n",
       "       requires_grad=True)"
      ]
     },
     "execution_count": 46,
     "metadata": {},
     "output_type": "execute_result"
    }
   ],
   "source": [
    "model.linear.weight"
   ]
  },
  {
   "cell_type": "code",
   "execution_count": 48,
   "id": "0c9a4f51-e5bf-40a7-87b7-02e45179ed8a",
   "metadata": {},
   "outputs": [
    {
     "data": {
      "text/plain": [
       "[Parameter containing:\n",
       " tensor([[ 0.0139, -0.0277,  0.0253,  ...,  0.0329,  0.0274, -0.0202],\n",
       "         [ 0.0332,  0.0336, -0.0007,  ..., -0.0338,  0.0324, -0.0043],\n",
       "         [-0.0230,  0.0234,  0.0269,  ..., -0.0349,  0.0268, -0.0083],\n",
       "         ...,\n",
       "         [-0.0020, -0.0332,  0.0350,  ..., -0.0342, -0.0319,  0.0228],\n",
       "         [-0.0259,  0.0127,  0.0122,  ..., -0.0097,  0.0110,  0.0147],\n",
       "         [ 0.0190, -0.0048, -0.0027,  ..., -0.0253, -0.0320, -0.0055]],\n",
       "        requires_grad=True),\n",
       " Parameter containing:\n",
       " tensor([ 0.0279,  0.0122, -0.0159,  0.0091, -0.0067,  0.0189, -0.0313, -0.0321,\n",
       "          0.0052, -0.0113], requires_grad=True)]"
      ]
     },
     "execution_count": 48,
     "metadata": {},
     "output_type": "execute_result"
    }
   ],
   "source": [
    "list(model.parameters())"
   ]
  },
  {
   "cell_type": "code",
   "execution_count": 50,
   "id": "71c3ba3e-f3b6-480d-aa74-9a8a60ab208c",
   "metadata": {},
   "outputs": [
    {
     "name": "stdout",
     "output_type": "stream",
     "text": [
      "tensor([ 0.0380, -0.0951,  0.1585,  0.0561, -0.0332,  0.0565, -0.1939, -0.0888,\n",
      "        -0.1107,  0.1132], grad_fn=<SelectBackward0>)\n"
     ]
    }
   ],
   "source": [
    "for images,labels in train_dl:\n",
    "    outputs=model(images)\n",
    "    break\n",
    "print(outputs[0]) #gives logits "
   ]
  },
  {
   "cell_type": "code",
   "execution_count": 52,
   "id": "a6e2a540-1235-4057-9c50-f376b7383f40",
   "metadata": {},
   "outputs": [],
   "source": [
    "#convert logits into probabilities using softmax\n",
    "import torch.nn.functional as F\n",
    "probs=F.softmax(outputs,dim=1)"
   ]
  },
  {
   "cell_type": "code",
   "execution_count": 54,
   "id": "7d41c960-f7b5-4aca-8e49-97108c0c58b7",
   "metadata": {},
   "outputs": [
    {
     "data": {
      "text/plain": [
       "tensor(1.0000, grad_fn=<SumBackward0>)"
      ]
     },
     "execution_count": 54,
     "metadata": {},
     "output_type": "execute_result"
    }
   ],
   "source": [
    "probs[1].sum()"
   ]
  },
  {
   "cell_type": "code",
   "execution_count": 56,
   "id": "c6a0e9fa-a978-49d0-abbf-e42dddad0a58",
   "metadata": {},
   "outputs": [
    {
     "name": "stdout",
     "output_type": "stream",
     "text": [
      "tensor([2, 2, 2, 0, 2, 9, 0, 2, 2, 9, 8, 9, 8, 0, 8, 2, 8, 4, 4, 0, 9, 1, 2, 8,\n",
      "        0, 2, 3, 9, 8, 2, 9, 8, 2, 2, 4, 2, 2, 8, 9, 9, 4, 2, 2, 8, 8, 8, 0, 4,\n",
      "        2, 8, 2, 0, 2, 3, 2, 2, 2, 0, 2, 0, 4, 2, 2, 9, 2, 2, 2, 2, 0, 2, 9, 8,\n",
      "        9, 9, 2, 6, 9, 9, 9, 8, 0, 0, 4, 8, 9, 8, 2, 9, 2, 4, 2, 8, 2, 9, 8, 0,\n",
      "        4, 0, 0, 9, 2, 2, 2, 2, 7, 2, 7, 4, 2, 2, 2, 8, 8, 9, 7, 4, 9, 2, 2, 9,\n",
      "        2, 2, 9, 8, 2, 4, 0, 9])\n",
      "tensor([7, 7, 8, 7, 1, 5, 8, 2, 1, 9, 0, 2, 9, 0, 2, 8, 7, 2, 8, 5, 5, 4, 1, 9,\n",
      "        5, 1, 7, 8, 7, 2, 0, 9, 4, 9, 8, 3, 4, 9, 5, 0, 8, 2, 6, 9, 7, 7, 8, 8,\n",
      "        4, 2, 3, 8, 0, 5, 6, 4, 3, 3, 6, 8, 0, 1, 6, 1, 3, 1, 8, 3, 8, 2, 0, 2,\n",
      "        1, 3, 7, 4, 5, 1, 1, 6, 3, 0, 4, 9, 0, 4, 6, 1, 6, 5, 5, 9, 1, 1, 0, 4,\n",
      "        5, 5, 5, 8, 4, 3, 9, 8, 4, 7, 2, 3, 1, 9, 7, 7, 7, 1, 1, 2, 3, 5, 3, 0,\n",
      "        3, 4, 3, 6, 6, 6, 1, 5])\n"
     ]
    }
   ],
   "source": [
    "max_probs,preds=torch.max(probs,dim=1)\n",
    "print(preds)\n",
    "print(labels)"
   ]
  },
  {
   "cell_type": "markdown",
   "id": "12ba4719-6202-4783-8894-575b9ab80aed",
   "metadata": {},
   "source": [
    "### Evaluation metric and loss function"
   ]
  },
  {
   "cell_type": "code",
   "execution_count": 59,
   "id": "7a68c607-0cb7-40f3-a97b-f1d33ea475fe",
   "metadata": {},
   "outputs": [],
   "source": [
    "#accuracy\n",
    "def accuracy(outputs,labels):\n",
    "    _,preds=torch.max(outputs,dim=1)\n",
    "    return torch.tensor(torch.sum(preds==labels).item()/len(preds))\n",
    "#Note that we don't need to apply softmax to the outputs since its results have the same relative order. This is because e^x is an increasing function, i.e., if y1 > y2, then e^y1 > e^y2. The same holds after averaging out the values to get the softmax."
   ]
  },
  {
   "cell_type": "code",
   "execution_count": 61,
   "id": "d3ccb341-0006-4cb4-8cb9-2ae0df8d91c3",
   "metadata": {},
   "outputs": [
    {
     "data": {
      "text/plain": [
       "tensor(0.0625)"
      ]
     },
     "execution_count": 61,
     "metadata": {},
     "output_type": "execute_result"
    }
   ],
   "source": [
    "accuracy(outputs,labels)"
   ]
  },
  {
   "cell_type": "markdown",
   "id": "05616783-7727-4e46-a2f4-f04d7fe06d56",
   "metadata": {},
   "source": [
    "Unlike accuracy, cross-entropy is a continuous and differentiable function. It also provides useful feedback for incremental improvements in the model (a slightly higher probability for the correct label leads to a lower loss). These two factors make cross-entropy a better choice for the loss function."
   ]
  },
  {
   "cell_type": "code",
   "execution_count": 64,
   "id": "fdd50709-0d0f-47be-81f1-d14feb8c9eba",
   "metadata": {},
   "outputs": [],
   "source": [
    "loss_fn=F.cross_entropy"
   ]
  },
  {
   "cell_type": "code",
   "execution_count": 66,
   "id": "956b892c-29c8-46da-b7c6-10f74ab0a805",
   "metadata": {},
   "outputs": [],
   "source": [
    "loss=loss_fn(outputs,labels)"
   ]
  },
  {
   "cell_type": "code",
   "execution_count": 68,
   "id": "826cb7be-f63a-402e-9823-6890698c521b",
   "metadata": {},
   "outputs": [
    {
     "data": {
      "text/plain": [
       "tensor(2.3287, grad_fn=<NllLossBackward0>)"
      ]
     },
     "execution_count": 68,
     "metadata": {},
     "output_type": "execute_result"
    }
   ],
   "source": [
    "loss  #e^loss probablity to predict the correct label"
   ]
  },
  {
   "cell_type": "markdown",
   "id": "ed58ef89-417b-4a96-87b3-3baf3042a48a",
   "metadata": {},
   "source": [
    "### Training the model"
   ]
  },
  {
   "cell_type": "code",
   "execution_count": 97,
   "id": "b7ca1ac9-d87b-40f2-a2e4-5415dabf270b",
   "metadata": {},
   "outputs": [],
   "source": [
    "def fit(epochs,lr,model,train_dl,val_dl,opt_func=torch.optim.SGD):\n",
    "    optimizer=opt_func(model.parameters(),lr)\n",
    "    history=[]\n",
    "    #training phase\n",
    "    for epoch in range(epochs):\n",
    "        for batch in train_dl:\n",
    "            loss=model.training_step(batch)\n",
    "            loss.backward()\n",
    "            optimizer.step()\n",
    "            optimizer.zero_grad()\n",
    "        #validation\n",
    "        result=evaluate(model,val_dl)\n",
    "        model.epoch_end(epoch,result)\n",
    "        history.append(result)\n",
    "    return history\n",
    "\n",
    "            "
   ]
  },
  {
   "cell_type": "code",
   "execution_count": 99,
   "id": "2d9f6839-858e-4efa-bed8-425b8c3061df",
   "metadata": {},
   "outputs": [],
   "source": [
    "def evaluate(model,val_dl):\n",
    "    outputs= [model.validation_step(batch) for batch in val_dl]\n",
    "    return model.validation_epoch_end(outputs)"
   ]
  },
  {
   "cell_type": "code",
   "execution_count": 115,
   "id": "c2015c09-c4d9-4a64-a762-263c6ddde441",
   "metadata": {},
   "outputs": [
    {
     "name": "stdout",
     "output_type": "stream",
     "text": [
      "Epoch [0], val_loss: 1.9598, val_acc: 0.6255\n",
      "Epoch [1], val_loss: 1.6881, val_acc: 0.7144\n",
      "Epoch [2], val_loss: 1.4859, val_acc: 0.7489\n",
      "Epoch [3], val_loss: 1.3337, val_acc: 0.7723\n",
      "Epoch [4], val_loss: 1.2166, val_acc: 0.7875\n"
     ]
    }
   ],
   "source": [
    "#train ur model\n",
    "history1=fit(5,0.001,model,train_dl,val_dl)"
   ]
  },
  {
   "cell_type": "code",
   "execution_count": 117,
   "id": "0b4dfa7a-f1ae-4ee6-b48d-75fecc7cc1b6",
   "metadata": {},
   "outputs": [
    {
     "name": "stdout",
     "output_type": "stream",
     "text": [
      "Epoch [0], val_loss: 0.7550, val_acc: 0.8428\n",
      "Epoch [1], val_loss: 0.6206, val_acc: 0.8579\n",
      "Epoch [2], val_loss: 0.5539, val_acc: 0.8670\n",
      "Epoch [3], val_loss: 0.5127, val_acc: 0.8733\n",
      "Epoch [4], val_loss: 0.4842, val_acc: 0.8787\n"
     ]
    }
   ],
   "source": [
    "hist2=fit(5,0.01,model,train_dl,val_dl)"
   ]
  },
  {
   "cell_type": "code",
   "execution_count": 119,
   "id": "5b5599da-d994-4d89-9ccc-f9f4123154ec",
   "metadata": {},
   "outputs": [
    {
     "name": "stdout",
     "output_type": "stream",
     "text": [
      "Epoch [0], val_loss: 0.4635, val_acc: 0.8811\n",
      "Epoch [1], val_loss: 0.4471, val_acc: 0.8860\n",
      "Epoch [2], val_loss: 0.4339, val_acc: 0.8876\n",
      "Epoch [3], val_loss: 0.4234, val_acc: 0.8897\n",
      "Epoch [4], val_loss: 0.4141, val_acc: 0.8912\n"
     ]
    }
   ],
   "source": [
    "hist3=fit(5,0.01,model,train_dl,val_dl)"
   ]
  },
  {
   "cell_type": "code",
   "execution_count": 120,
   "id": "bf5bf625-f396-4fe4-bdc5-c6c912ea5597",
   "metadata": {},
   "outputs": [
    {
     "name": "stdout",
     "output_type": "stream",
     "text": [
      "Epoch [0], val_loss: 0.4133, val_acc: 0.8918\n",
      "Epoch [1], val_loss: 0.4124, val_acc: 0.8920\n",
      "Epoch [2], val_loss: 0.4116, val_acc: 0.8920\n",
      "Epoch [3], val_loss: 0.4108, val_acc: 0.8921\n",
      "Epoch [4], val_loss: 0.4100, val_acc: 0.8925\n"
     ]
    }
   ],
   "source": [
    "hist4=fit(5,0.001,model,train_dl,val_dl)\n"
   ]
  },
  {
   "cell_type": "code",
   "execution_count": 123,
   "id": "45d3aa30-029d-4f9e-9a45-4730b6800ebd",
   "metadata": {},
   "outputs": [
    {
     "data": {
      "text/plain": [
       "[<matplotlib.lines.Line2D at 0x19a3b3023f0>]"
      ]
     },
     "execution_count": 123,
     "metadata": {},
     "output_type": "execute_result"
    },
    {
     "data": {
      "image/png": "[encoded data removed]",
      "text/plain": [
       "<Figure size 640x480 with 1 Axes>"
      ]
     },
     "metadata": {},
     "output_type": "display_data"
    }
   ],
   "source": [
    "history=[]+history1+hist2+hist3+hist4\n",
    "accs=[result['val_loss'] for result in history]\n",
    "plt.plot(accs)"
   ]
  },
  {
   "cell_type": "markdown",
   "id": "505bb9a8-8b05-420e-971c-bd511a38be58",
   "metadata": {},
   "source": [
    "this model not capable to perform more than 90% ,since it is not powerful enough"
   ]
  },
  {
   "cell_type": "markdown",
   "id": "f19e547b-1c96-4a79-b35a-da30a112636c",
   "metadata": {},
   "source": [
    "### Predicting"
   ]
  },
  {
   "cell_type": "code",
   "execution_count": 143,
   "id": "fdbc95de-66f9-4345-a5a3-0b5c936df816",
   "metadata": {},
   "outputs": [],
   "source": [
    "def predict(image,model):\n",
    "    image=image.unsqueeze(0)\n",
    "    yb=model(image)\n",
    "    _,pred=torch.max(yb,dim=1)\n",
    "    return pred[0].item()\n",
    "    "
   ]
  },
  {
   "cell_type": "code",
   "execution_count": 147,
   "id": "45966422-db63-45c7-b470-0c0295c3cd26",
   "metadata": {},
   "outputs": [
    {
     "name": "stdout",
     "output_type": "stream",
     "text": [
      "7\n"
     ]
    },
    {
     "data": {
      "image/png": "[encoded data removed]",
      "text/plain": [
       "<Figure size 640x480 with 1 Axes>"
      ]
     },
     "metadata": {},
     "output_type": "display_data"
    }
   ],
   "source": [
    "img,label=test_dataset[0]\n",
    "plt.imshow(img[0])\n",
    "print(predict(img,model))"
   ]
  },
  {
   "cell_type": "code",
   "execution_count": 151,
   "id": "18fe49f6-9b66-43d2-8922-2ea4b19bbb46",
   "metadata": {},
   "outputs": [
    {
     "name": "stdout",
     "output_type": "stream",
     "text": [
      "{'val_loss': 0.3832858204841614, 'val_acc': 0.900097668170929}\n"
     ]
    }
   ],
   "source": [
    "test_dl=DataLoader(test_dataset,batch_size=256)\n",
    "result=evaluate(model,test_dl)\n",
    "print(result)"
   ]
  },
  {
   "cell_type": "code",
   "execution_count": null,
   "id": "e54d6349-6c51-43f2-aea2-1429dcbec2b3",
   "metadata": {},
   "outputs": [],
   "source": []
  }
 ],
 "metadata": {
  "kernelspec": {
   "display_name": "Python [conda env:pytorch]",
   "language": "python",
   "name": "conda-env-pytorch-py"
  },
  "language_info": {
   "codemirror_mode": {
    "name": "ipython",
    "version": 3
   },
   "file_extension": ".py",
   "mimetype": "text/x-python",
   "name": "python",
   "nbconvert_exporter": "python",
   "pygments_lexer": "ipython3",
   "version": "3.12.9"
  }
 },
 "nbformat": 4,
 "nbformat_minor": 5
}
