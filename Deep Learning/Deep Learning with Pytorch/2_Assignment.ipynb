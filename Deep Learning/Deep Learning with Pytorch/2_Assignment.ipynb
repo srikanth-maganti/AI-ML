{
 "cells": [
  {
   "cell_type": "markdown",
   "id": "b44390da-e086-43da-8370-aef7188df6b1",
   "metadata": {},
   "source": [
    "## Logistic Regression on Cifar10 Dataset\n"
   ]
  },
  {
   "cell_type": "code",
   "execution_count": 127,
   "id": "ff5b7e54-74bd-4878-92e1-d70f77fe8a40",
   "metadata": {},
   "outputs": [],
   "source": [
    "import torch\n",
    "import torch.nn as  nn\n",
    "import matplotlib.pyplot as plt\n",
    "import numpy as np\n",
    "from torchvision.datasets import CIFAR10\n",
    "import torchvision.transforms as transforms\n",
    "from torch.utils.data import DataLoader\n",
    "from torch.utils.data import random_split\n",
    "from torch.nn import functional as F"
   ]
  },
  {
   "cell_type": "code",
   "execution_count": 128,
   "id": "082779f3-a749-4361-b8fb-7e0111adbd3a",
   "metadata": {},
   "outputs": [],
   "source": [
    "#downloading dataset\n",
    "dataset=CIFAR10(root=\"data/\" , download=True,transform=transforms.ToTensor())\n",
    "test_dataset=CIFAR10(root=\"data/\", train=False,transform=transforms.ToTensor())"
   ]
  },
  {
   "cell_type": "code",
   "execution_count": 129,
   "id": "98add5af-f683-4937-999b-2b033e081dad",
   "metadata": {},
   "outputs": [
    {
     "name": "stdout",
     "output_type": "stream",
     "text": [
      "50000\n"
     ]
    }
   ],
   "source": [
    "print(len(dataset))"
   ]
  },
  {
   "cell_type": "code",
   "execution_count": 130,
   "id": "aa633cd9-3b64-49d3-8b8f-5c9192321aa1",
   "metadata": {},
   "outputs": [
    {
     "name": "stdout",
     "output_type": "stream",
     "text": [
      "10000\n"
     ]
    }
   ],
   "source": [
    "print(len(test_dataset))"
   ]
  },
  {
   "cell_type": "code",
   "execution_count": 131,
   "id": "138f0775-51d6-4e81-be12-00c61635665f",
   "metadata": {},
   "outputs": [],
   "source": [
    "#splitting into train and validation set\n",
    "train_ds,val_ds=random_split(dataset,[40000,10000])\n"
   ]
  },
  {
   "cell_type": "code",
   "execution_count": 132,
   "id": "2b096a33-b19a-4f25-9de9-c120d5065b64",
   "metadata": {},
   "outputs": [
    {
     "name": "stdout",
     "output_type": "stream",
     "text": [
      "40000\n",
      "10000\n"
     ]
    }
   ],
   "source": [
    "print(len(train_ds))\n",
    "print(len(val_ds))"
   ]
  },
  {
   "cell_type": "code",
   "execution_count": 133,
   "id": "ac8c8fd3-7fc0-466e-8ee3-bacd4acd490a",
   "metadata": {},
   "outputs": [
    {
     "name": "stdout",
     "output_type": "stream",
     "text": [
      "(tensor([[[0.9961, 0.9843, 0.9961,  ..., 0.9922, 0.9922, 0.9882],\n",
      "         [0.9765, 0.9647, 0.9843,  ..., 0.9765, 0.9804, 0.9765],\n",
      "         [0.9725, 0.9647, 0.9882,  ..., 0.9725, 0.9725, 0.9765],\n",
      "         ...,\n",
      "         [0.3294, 0.3608, 0.3490,  ..., 0.1373, 0.2471, 0.3490],\n",
      "         [0.3490, 0.3569, 0.3490,  ..., 0.2353, 0.2980, 0.3176],\n",
      "         [0.3686, 0.3529, 0.3686,  ..., 0.3412, 0.3098, 0.3333]],\n",
      "\n",
      "        [[1.0000, 0.9882, 0.9961,  ..., 1.0000, 0.9961, 0.9922],\n",
      "         [0.9804, 0.9686, 0.9843,  ..., 0.9804, 0.9843, 0.9804],\n",
      "         [0.9765, 0.9686, 0.9882,  ..., 0.9804, 0.9765, 0.9804],\n",
      "         ...,\n",
      "         [0.4745, 0.4980, 0.4784,  ..., 0.1647, 0.2392, 0.4275],\n",
      "         [0.4902, 0.5020, 0.4980,  ..., 0.3059, 0.3725, 0.4314],\n",
      "         [0.5020, 0.4980, 0.5216,  ..., 0.4549, 0.4353, 0.4627]],\n",
      "\n",
      "        [[1.0000, 0.9961, 1.0000,  ..., 0.9961, 1.0000, 1.0000],\n",
      "         [0.9882, 0.9765, 0.9882,  ..., 0.9804, 0.9882, 0.9882],\n",
      "         [0.9843, 0.9765, 0.9922,  ..., 0.9765, 0.9843, 0.9882],\n",
      "         ...,\n",
      "         [0.1686, 0.2078, 0.1961,  ..., 0.0824, 0.1294, 0.1647],\n",
      "         [0.2000, 0.2039, 0.1922,  ..., 0.1608, 0.1882, 0.1686],\n",
      "         [0.2078, 0.1922, 0.2118,  ..., 0.2118, 0.1725, 0.1882]]]), 7)\n"
     ]
    }
   ],
   "source": [
    "print(train_ds[0])"
   ]
  },
  {
   "cell_type": "code",
   "execution_count": 134,
   "id": "f2af33b2-1f41-4af1-a276-26b3d79a72a0",
   "metadata": {},
   "outputs": [],
   "source": [
    "#create dataloader for training and validation data\n",
    "batchsize=128\n",
    "train_dl=DataLoader(train_ds,batch_size=batchsize,shuffle=True)\n",
    "val_dl=DataLoader(val_ds,batch_size=batchsize)"
   ]
  },
  {
   "cell_type": "code",
   "execution_count": 135,
   "id": "aa1c1e77-35b8-49fd-801f-45999dcdb526",
   "metadata": {},
   "outputs": [
    {
     "name": "stdout",
     "output_type": "stream",
     "text": [
      "torch.Size([3, 32, 32])\n",
      "tensor(9)\n"
     ]
    },
    {
     "data": {
      "image/png": "[encoded data removed]",
      "text/plain": [
       "<Figure size 640x480 with 1 Axes>"
      ]
     },
     "metadata": {},
     "output_type": "display_data"
    }
   ],
   "source": [
    "for images,labels in train_dl:\n",
    "    plt.imshow(images[0].permute(1,2,0))\n",
    "    print(images[0].shape)\n",
    "    print(labels[0])\n",
    "    break"
   ]
  },
  {
   "cell_type": "code",
   "execution_count": 136,
   "id": "1d1ce78f-163b-49a3-b083-1e1703d15d14",
   "metadata": {},
   "outputs": [
    {
     "data": {
      "text/plain": [
       "['airplane',\n",
       " 'automobile',\n",
       " 'bird',\n",
       " 'cat',\n",
       " 'deer',\n",
       " 'dog',\n",
       " 'frog',\n",
       " 'horse',\n",
       " 'ship',\n",
       " 'truck']"
      ]
     },
     "execution_count": 136,
     "metadata": {},
     "output_type": "execute_result"
    }
   ],
   "source": [
    "dataset.classes"
   ]
  },
  {
   "cell_type": "code",
   "execution_count": 137,
   "id": "e63163d3-983c-4591-bf37-d132f7d9bba7",
   "metadata": {},
   "outputs": [],
   "source": [
    "# Create a mnist model\n",
    "input_size=3*32*32\n",
    "target_size=len(dataset.classes)\n",
    "class CIFAR_Model (nn.Module):\n",
    "    def __init__(self):\n",
    "        super().__init__()\n",
    "        self.linear=nn.Linear(input_size,target_size)\n",
    "    def forward(self,xb):\n",
    "        xb=xb.reshape(-1,3*32*32)\n",
    "        output=self.linear(xb)\n",
    "        return output\n",
    "    def train_step(self,batch):\n",
    "        images,labels=batch\n",
    "        pred=self(images)\n",
    "        loss=F.cross_entropy(pred,labels)\n",
    "        return loss\n",
    "    def validation_step(self,batch):\n",
    "        images,labels=batch\n",
    "        pred=self(images)\n",
    "        loss=F.cross_entropy(pred,labels)\n",
    "        acc=accuracy(pred,labels)\n",
    "        return {\"val_loss\":loss,\"val_acc\":acc}\n",
    "    def validation_epoch_end(self,outputs):\n",
    "        accs=[x[\"val_acc\"] for x in outputs]\n",
    "        loss=[x[\"val_loss\"] for x in outputs]\n",
    "        avg_acc=torch.stack(accs).mean()\n",
    "        avg_loss=torch.stack(loss).mean()\n",
    "        return {\"val_acc\":avg_acc.item(),\"val_loss\":avg_loss.item()}\n",
    "    def epoch_end(self,epoch,result,loss):\n",
    "        print(\"epoch:[{}]-- train_loss:{:.4f} --validation_loss:{:.4f} --validation_accuracy:{:.4f}\".format(epoch,loss,result[\"val_loss\"],result[\"val_acc\"]))\n",
    "model=CIFAR_Model()\n",
    "        \n",
    "        "
   ]
  },
  {
   "cell_type": "code",
   "execution_count": 138,
   "id": "d91fc2b3-6a0b-4eec-ab63-8fb02209dd69",
   "metadata": {},
   "outputs": [],
   "source": [
    "def fit(epochs,lr,model,train_dl,val_dl,opt_fn=torch.optim.SGD):\n",
    "    opt=opt_fn(model.parameters(),lr=lr)\n",
    "    history=[]\n",
    "    for epoch in range(epochs):\n",
    "        loss=0\n",
    "        for batch in train_dl:\n",
    "            loss=model.train_step(batch)\n",
    "            loss.backward()\n",
    "            opt.step()\n",
    "            opt.zero_grad()\n",
    "        result=evaluate(model,val_dl)\n",
    "        model.epoch_end(epoch,result,loss)\n",
    "        history.append(result[\"val_loss\"])\n",
    "    return history\n",
    "        \n",
    "            "
   ]
  },
  {
   "cell_type": "code",
   "execution_count": 139,
   "id": "007f6452-1e9b-451d-a5fc-b94cd12b4550",
   "metadata": {},
   "outputs": [],
   "source": [
    "def evaluate(model,val_dl):\n",
    "    outputs=[model.validation_step(batch) for batch in val_dl]\n",
    "    return model.validation_epoch_end(outputs)\n",
    "def accuracy(pred,labels):\n",
    "    _,pred=torch.max(pred,dim=1)\n",
    "    return torch.tensor(torch.sum((pred==labels))/len(labels))"
   ]
  },
  {
   "cell_type": "code",
   "execution_count": 140,
   "id": "b507de63-f37b-4ae7-8210-93bf2122406f",
   "metadata": {},
   "outputs": [
    {
     "name": "stderr",
     "output_type": "stream",
     "text": [
      "C:\\Users\\Srikanth\\AppData\\Local\\Temp\\ipykernel_13844\\2749660665.py:6: UserWarning: To copy construct from a tensor, it is recommended to use sourceTensor.clone().detach() or sourceTensor.clone().detach().requires_grad_(True), rather than torch.tensor(sourceTensor).\n",
      "  return torch.tensor(torch.sum((pred==labels))/len(labels))\n"
     ]
    },
    {
     "name": "stdout",
     "output_type": "stream",
     "text": [
      "epoch:[0]-- train_loss:2.1296 --validation_loss:2.1421 --validation_accuracy:0.2566\n",
      "epoch:[1]-- train_loss:2.0551 --validation_loss:2.0669 --validation_accuracy:0.2821\n",
      "epoch:[2]-- train_loss:1.9610 --validation_loss:2.0223 --validation_accuracy:0.3080\n",
      "epoch:[3]-- train_loss:1.8601 --validation_loss:1.9923 --validation_accuracy:0.3191\n",
      "epoch:[4]-- train_loss:2.0620 --validation_loss:1.9687 --validation_accuracy:0.3267\n"
     ]
    }
   ],
   "source": [
    "hist1=fit(5,0.001,model,train_dl,val_dl)"
   ]
  },
  {
   "cell_type": "code",
   "execution_count": 156,
   "id": "05a0b0f9-6fb6-41fa-b031-2fe6d14689e2",
   "metadata": {},
   "outputs": [
    {
     "name": "stderr",
     "output_type": "stream",
     "text": [
      "C:\\Users\\Srikanth\\AppData\\Local\\Temp\\ipykernel_13844\\2749660665.py:6: UserWarning: To copy construct from a tensor, it is recommended to use sourceTensor.clone().detach() or sourceTensor.clone().detach().requires_grad_(True), rather than torch.tensor(sourceTensor).\n",
      "  return torch.tensor(torch.sum((pred==labels))/len(labels))\n"
     ]
    },
    {
     "name": "stdout",
     "output_type": "stream",
     "text": [
      "epoch:[0]-- train_loss:1.9111 --validation_loss:1.8960 --validation_accuracy:0.3372\n",
      "epoch:[1]-- train_loss:1.7785 --validation_loss:1.8592 --validation_accuracy:0.3550\n",
      "epoch:[2]-- train_loss:1.8952 --validation_loss:1.8713 --validation_accuracy:0.3379\n",
      "epoch:[3]-- train_loss:1.7533 --validation_loss:1.8441 --validation_accuracy:0.3552\n",
      "epoch:[4]-- train_loss:1.7381 --validation_loss:1.8374 --validation_accuracy:0.3474\n"
     ]
    }
   ],
   "source": [
    "hist2=fit(5,0.01,model,train_dl,val_dl)"
   ]
  },
  {
   "cell_type": "code",
   "execution_count": 158,
   "id": "1345536d-9f20-4286-8989-b769edcd9629",
   "metadata": {},
   "outputs": [
    {
     "name": "stderr",
     "output_type": "stream",
     "text": [
      "C:\\Users\\Srikanth\\AppData\\Local\\Temp\\ipykernel_13844\\2749660665.py:6: UserWarning: To copy construct from a tensor, it is recommended to use sourceTensor.clone().detach() or sourceTensor.clone().detach().requires_grad_(True), rather than torch.tensor(sourceTensor).\n",
      "  return torch.tensor(torch.sum((pred==labels))/len(labels))\n"
     ]
    },
    {
     "name": "stdout",
     "output_type": "stream",
     "text": [
      "epoch:[0]-- train_loss:1.6407 --validation_loss:1.8001 --validation_accuracy:0.3820\n",
      "epoch:[1]-- train_loss:1.5565 --validation_loss:1.7988 --validation_accuracy:0.3833\n",
      "epoch:[2]-- train_loss:1.7673 --validation_loss:1.7978 --validation_accuracy:0.3823\n",
      "epoch:[3]-- train_loss:1.8960 --validation_loss:1.7978 --validation_accuracy:0.3840\n",
      "epoch:[4]-- train_loss:1.5605 --validation_loss:1.7970 --validation_accuracy:0.3840\n"
     ]
    }
   ],
   "source": [
    "hist3=fit(5,0.001,model,train_dl,val_dl)"
   ]
  },
  {
   "cell_type": "code",
   "execution_count": 162,
   "id": "1e562192-b7bf-4a0c-bd0c-66c1612d94d3",
   "metadata": {},
   "outputs": [
    {
     "name": "stdout",
     "output_type": "stream",
     "text": [
      "15\n"
     ]
    }
   ],
   "source": [
    "hist=hist1+hist2+hist3\n",
    "print(len(hist))"
   ]
  },
  {
   "cell_type": "code",
   "execution_count": 164,
   "id": "71bd5fcf-219e-4417-b627-e8eaeade138d",
   "metadata": {},
   "outputs": [
    {
     "data": {
      "text/plain": [
       "Text(0.5, 1.0, 'epcohs vs loss')"
      ]
     },
     "execution_count": 164,
     "metadata": {},
     "output_type": "execute_result"
    },
    {
     "data": {
      "image/png": "[encoded data removed]",
      "text/plain": [
       "<Figure size 640x480 with 1 Axes>"
      ]
     },
     "metadata": {},
     "output_type": "display_data"
    }
   ],
   "source": [
    "plt.plot(hist)\n",
    "plt.xlabel(\"epochs\")\n",
    "plt.ylabel(\"loss\")\n",
    "plt.title(\"epcohs vs loss\")"
   ]
  },
  {
   "cell_type": "code",
   "execution_count": 166,
   "id": "8549b8c0-13b7-4649-b205-83f7eaa181fb",
   "metadata": {},
   "outputs": [],
   "source": [
    "# making predictions\n",
    "def predict(xb):\n",
    "    xb=torch.squeeze(xb)\n",
    "    output=model(xb)\n",
    "    _,pred=torch.max(output,dim=1)\n",
    "    return dataset[pred]"
   ]
  },
  {
   "cell_type": "code",
   "execution_count": 168,
   "id": "7709d601-3b2c-4fa4-add6-a3fa0a51ef03",
   "metadata": {},
   "outputs": [],
   "source": [
    "test_dl=DataLoader(test_dataset,batch_size=256,shuffle=True)"
   ]
  },
  {
   "cell_type": "code",
   "execution_count": 170,
   "id": "e8472af3-789c-47ad-bbd9-83ab645097f1",
   "metadata": {},
   "outputs": [
    {
     "name": "stderr",
     "output_type": "stream",
     "text": [
      "C:\\Users\\Srikanth\\AppData\\Local\\Temp\\ipykernel_13844\\2749660665.py:6: UserWarning: To copy construct from a tensor, it is recommended to use sourceTensor.clone().detach() or sourceTensor.clone().detach().requires_grad_(True), rather than torch.tensor(sourceTensor).\n",
      "  return torch.tensor(torch.sum((pred==labels))/len(labels))\n"
     ]
    },
    {
     "data": {
      "text/plain": [
       "{'val_acc': 0.38525390625, 'val_loss': 1.7791715860366821}"
      ]
     },
     "execution_count": 170,
     "metadata": {},
     "output_type": "execute_result"
    }
   ],
   "source": [
    "evaluate(model,test_dl)"
   ]
  },
  {
   "cell_type": "code",
   "execution_count": null,
   "id": "cf9f4f18-0f6d-4ad7-987b-6cb93e74b1c8",
   "metadata": {},
   "outputs": [],
   "source": [
    "for images,labels in test_dl:\n",
    "    "
   ]
  }
 ],
 "metadata": {
  "kernelspec": {
   "display_name": "Python [conda env:pytorch]",
   "language": "python",
   "name": "conda-env-pytorch-py"
  },
  "language_info": {
   "codemirror_mode": {
    "name": "ipython",
    "version": 3
   },
   "file_extension": ".py",
   "mimetype": "text/x-python",
   "name": "python",
   "nbconvert_exporter": "python",
   "pygments_lexer": "ipython3",
   "version": "3.12.9"
  }
 },
 "nbformat": 4,
 "nbformat_minor": 5
}
