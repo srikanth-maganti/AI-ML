{
 "cells": [
  {
   "cell_type": "markdown",
   "id": "978ed42e-94b5-4154-8643-6653b8cc004d",
   "metadata": {},
   "source": [
    "## Classifying cifar10 images using ResNets,Regularization and data augumentation in pytorch"
   ]
  },
  {
   "cell_type": "code",
   "execution_count": 6,
   "id": "5f229fcc-912e-401c-9086-fcbb76fc6bd1",
   "metadata": {},
   "outputs": [],
   "source": [
    "import os\n",
    "import torch\n",
    "import torchvision\n",
    "import tarfile\n",
    "import torch.nn as nn\n",
    "import numpy as np\n",
    "from torchvision.datasets.utils import download_url\n",
    "import torchvision.transforms as tt\n",
    "from torchvision.utils import make_grid\n",
    "from torch.utils.data import DataLoader\n",
    "from torch.utils.data import random_split\n",
    "import matplotlib.pyplot as plt\n",
    "\n"
   ]
  },
  {
   "cell_type": "code",
   "execution_count": 7,
   "id": "602d76a8-eeef-4768-abae-423b1a2866d0",
   "metadata": {},
   "outputs": [],
   "source": [
    "project_name=\"cifar10_resnet\""
   ]
  },
  {
   "cell_type": "code",
   "execution_count": 10,
   "id": "fc9a1e49-a97d-4a00-89d1-d47902e5961c",
   "metadata": {},
   "outputs": [
    {
     "name": "stderr",
     "output_type": "stream",
     "text": [
      "100%|███████████████████████████████████████████████████████████████████████████████| 135M/135M [01:36<00:00, 1.40MB/s]\n"
     ]
    }
   ],
   "source": [
    "#downloading dataset\n",
    "dataset_url=\"https://s3.amazonaws.com/fast-ai-imageclas/cifar10.tgz\"\n",
    "download_url(dataset_url,\".\")"
   ]
  },
  {
   "cell_type": "code",
   "execution_count": 12,
   "id": "766c910d-30a6-440e-9ba7-ac0ff125ca16",
   "metadata": {},
   "outputs": [
    {
     "name": "stderr",
     "output_type": "stream",
     "text": [
      "C:\\Users\\Srikanth\\AppData\\Local\\Temp\\ipykernel_7528\\4163502226.py:2: DeprecationWarning: Python 3.14 will, by default, filter extracted tar archives and reject files or modify their metadata. Use the filter argument to control this behavior.\n",
      "  tar.extractall(path=\"./data\")\n"
     ]
    }
   ],
   "source": [
    "with tarfile.open(\"./cifar10.tgz\",\"r:gz\") as tar:\n",
    "    tar.extractall(path=\"./data\")"
   ]
  },
  {
   "cell_type": "code",
   "execution_count": 14,
   "id": "cbdb0ae1-ec6a-4813-b7e6-43c964067927",
   "metadata": {},
   "outputs": [
    {
     "name": "stdout",
     "output_type": "stream",
     "text": [
      "['test', 'train']\n",
      "['airplane', 'automobile', 'bird', 'cat', 'deer', 'dog', 'frog', 'horse', 'ship', 'truck']\n"
     ]
    }
   ],
   "source": [
    "data_dir=\"./data/cifar10\"\n",
    "print(os.listdir(data_dir))\n",
    "print(os.listdir(data_dir+\"/train\"))"
   ]
  },
  {
   "cell_type": "markdown",
   "id": "31e01a4b-f745-471c-88cb-3fa12e5fe793",
   "metadata": {},
   "source": [
    "1.Use test set for validation:\n",
    "\n",
    "Use test set as validation set.In general once you have picked the best model architecture and hyperparameters using a fixed validation set it is a good idea to retrain the same model on the entire dataset just to give it a small final boost in performance\n",
    "\n",
    "2.Channel wise data normalization:\n",
    "Normalizing data prevents the values from any one channel from disproportionately affecting the losses and gradients while training,simply by having a higher or wider range of values that others\n",
    "\n",
    "3.Randomized data Augumentations:we will apply randomly chosen transformations while loading images from the training dataset.\n"
   ]
  },
  {
   "cell_type": "code",
   "execution_count": null,
   "id": "2f75d67c-c42b-4a6b-b1b8-ac4df0cc3cdb",
   "metadata": {},
   "outputs": [],
   "source": [
    "#data Transformations\n",
    "stats=((0.4914,)"
   ]
  }
 ],
 "metadata": {
  "kernelspec": {
   "display_name": "Python [conda env:pytorch]",
   "language": "python",
   "name": "conda-env-pytorch-py"
  },
  "language_info": {
   "codemirror_mode": {
    "name": "ipython",
    "version": 3
   },
   "file_extension": ".py",
   "mimetype": "text/x-python",
   "name": "python",
   "nbconvert_exporter": "python",
   "pygments_lexer": "ipython3",
   "version": "3.12.9"
  }
 },
 "nbformat": 4,
 "nbformat_minor": 5
}
